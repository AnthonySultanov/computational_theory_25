{
 "cells": [
  {
   "cell_type": "code",
   "execution_count": 6,
   "metadata": {},
   "outputs": [],
   "source": [
    "import numpy as np  \n",
    "import matplotlib.pyplot as plt"
   ]
  },
  {
   "cell_type": "markdown",
   "metadata": {},
   "source": [
    "### Task1: Binary Representations"
   ]
  },
  {
   "cell_type": "code",
   "execution_count": 7,
   "metadata": {},
   "outputs": [],
   "source": [
    "def rotl(x, n = 1):\n",
    "    \"\"\"Rotate a 32-bit unsigned integer left by n positions.\"\"\"\n",
    "    n = n % 32\n",
    "    return ((x << n) | (x >> (32 - n))) & 0xFFFFFFFF\n",
    "\n"
   ]
  },
  {
   "cell_type": "code",
   "execution_count": 8,
   "metadata": {},
   "outputs": [
    {
     "name": "stdout",
     "output_type": "stream",
     "text": [
      "Test 1: Rotating 0x12345678 left by 4 positions\n",
      "Expected: 0x23456781\n",
      "Got:      0x23456781\n",
      "Result:     True\n",
      "\n",
      "Test 2: Rotating 0x80000000 left by 1 position\n",
      "Expected: 0x1\n",
      "Got:      0x1\n",
      "Result:     True\n",
      "\n",
      "Test 3: Rotating 0xFFFFFFFF left by 0 positions\n",
      "Expected: 0xffffffff\n",
      "Got:      0xffffffff\n",
      "Result:     True\n",
      "\n"
     ]
    }
   ],
   "source": [
    "def test_rotl():\n",
    "    #test cases for rotl\n",
    "\n",
    "    #test case 1 rotate left by 4 positions\n",
    "    print(\"Test 1: Rotating 0x12345678 left by 4 positions\")\n",
    "    result = rotl(0x12345678, 4)\n",
    "    expected = 0x23456781\n",
    "    print(f\"Expected: {hex(expected)}\")\n",
    "    print(f\"Got:      {hex(result)}\")\n",
    "    print(f\"Result:     {result == expected}\\n\")\n",
    "\n",
    "    #test case 2 rotate left by 1 positions\n",
    "    print(\"Test 2: Rotating 0x80000000 left by 1 position\")\n",
    "    result = rotl(0x80000000, 1)\n",
    "    expected = 0x00000001\n",
    "    print(f\"Expected: {hex(expected)}\")\n",
    "    print(f\"Got:      {hex(result)}\")\n",
    "    print(f\"Result:     {result == expected}\\n\")\n",
    "\n",
    "    #test case 3 rotate left by 0 positions\n",
    "    print(\"Test 3: Rotating 0xFFFFFFFF left by 0 positions\")\n",
    "    result = rotl(0xFFFFFFFF, 0)\n",
    "    expected = 0xFFFFFFFF\n",
    "    print(f\"Expected: {hex(expected)}\")\n",
    "    print(f\"Got:      {hex(result)}\")\n",
    "    print(f\"Result:     {result == expected}\\n\")\n",
    "\n",
    "\n",
    "#run the test cases\n",
    "test_rotl()"
   ]
  },
  {
   "cell_type": "code",
   "execution_count": 9,
   "metadata": {},
   "outputs": [],
   "source": [
    "def rotr(x, n = 1):\n",
    "    \"\"\"Rotate a 32-bit unsigned integer right by n positions. \"\"\"\n",
    "    x = 0xFFFFFFFF \n",
    "    n = 32  \n",
    "    return ((x >> n) | (x << (32 - n))) & 0xFFFFFFFF\n",
    "\n"
   ]
  },
  {
   "cell_type": "code",
   "execution_count": 10,
   "metadata": {},
   "outputs": [],
   "source": [
    "def ch(x, y, z):\n",
    "    \"\"\"Choose bits from y where x has 1s and from z where x has 0s.\"\"\"\n",
    "    return (x & y) ^ (~x & z)\n",
    "\n"
   ]
  },
  {
   "cell_type": "code",
   "execution_count": 11,
   "metadata": {},
   "outputs": [],
   "source": [
    "def maj(x, y, z):\n",
    "    \"\"\"Take majority vote of bits in x, y, and z. \"\"\"\n",
    "    return (x & y) ^ (x & z) ^ (y & z)"
   ]
  }
 ],
 "metadata": {
  "kernelspec": {
   "display_name": "Python 3",
   "language": "python",
   "name": "python3"
  },
  "language_info": {
   "codemirror_mode": {
    "name": "ipython",
    "version": 3
   },
   "file_extension": ".py",
   "mimetype": "text/x-python",
   "name": "python",
   "nbconvert_exporter": "python",
   "pygments_lexer": "ipython3",
   "version": "3.12.1"
  }
 },
 "nbformat": 4,
 "nbformat_minor": 2
}
