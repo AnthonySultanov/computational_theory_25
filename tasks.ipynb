{
 "cells": [
  {
   "cell_type": "code",
   "execution_count": 27,
   "metadata": {},
   "outputs": [],
   "source": [
    "import numpy as np  \n",
    "import matplotlib.pyplot as plt\n",
    "import os"
   ]
  },
  {
   "cell_type": "markdown",
   "metadata": {},
   "source": [
    "---\n",
    "# Task1: Binary Representations\n",
    "---"
   ]
  },
  {
   "cell_type": "markdown",
   "metadata": {},
   "source": [
    "### Introduction\n",
    "In this task we investigate basic binary operations applied in low level programming and encryption.We then carry out four main tasks: rotl, rotr, ch, and maj. Many cryptographic algorithms, including SHA-256, are based on these operations, which are also indispensable for bit level binary data manipulation.\n"
   ]
  },
  {
   "cell_type": "markdown",
   "metadata": {},
   "source": [
    "## rotl(x, n = 1)"
   ]
  },
  {
   "cell_type": "code",
   "execution_count": 28,
   "metadata": {},
   "outputs": [],
   "source": [
    "def rotl(x, n = 1):\n",
    "    \"\"\"Rotate a 32-bit unsigned integer left by n positions.\"\"\"\n",
    "    n = n % 32\n",
    "    return ((x << n) | (x >> (32 - n))) & 0xFFFFFFFF\n",
    "\n"
   ]
  },
  {
   "cell_type": "code",
   "execution_count": 29,
   "metadata": {},
   "outputs": [
    {
     "name": "stdout",
     "output_type": "stream",
     "text": [
      "Test 1: Rotating 0x12345678 left by 4 positions\n",
      "Expected: 0x23456781\n",
      "Got:      0x23456781\n",
      "Result:     True\n",
      "\n",
      "Test 2: Rotating 0x80000000 left by 1 position\n",
      "Expected: 0x1\n",
      "Got:      0x1\n",
      "Result:     True\n",
      "\n",
      "Test 3: Rotating 0xFFFFFFFF left by 0 positions\n",
      "Expected: 0xffffffff\n",
      "Got:      0xffffffff\n",
      "Result:     True\n",
      "\n"
     ]
    }
   ],
   "source": [
    "def test_rotl():\n",
    "    #test cases for rotl\n",
    "\n",
    "    #test case 1 rotate left by 4 positions\n",
    "    print(\"Test 1: Rotating 0x12345678 left by 4 positions\")\n",
    "    result = rotl(0x12345678, 4)\n",
    "    expected = 0x23456781\n",
    "    print(f\"Expected: {hex(expected)}\")\n",
    "    print(f\"Got:      {hex(result)}\")\n",
    "    print(f\"Result:     {result == expected}\\n\")\n",
    "\n",
    "    #test case 2 rotate left by 1 positions\n",
    "    print(\"Test 2: Rotating 0x80000000 left by 1 position\")\n",
    "    result = rotl(0x80000000, 1)\n",
    "    expected = 0x00000001\n",
    "    print(f\"Expected: {hex(expected)}\")\n",
    "    print(f\"Got:      {hex(result)}\")\n",
    "    print(f\"Result:     {result == expected}\\n\")\n",
    "\n",
    "    #test case 3 rotate left by 0 positions\n",
    "    print(\"Test 3: Rotating 0xFFFFFFFF left by 0 positions\")\n",
    "    result = rotl(0xFFFFFFFF, 0)\n",
    "    expected = 0xFFFFFFFF\n",
    "    print(f\"Expected: {hex(expected)}\")\n",
    "    print(f\"Got:      {hex(result)}\")\n",
    "    print(f\"Result:     {result == expected}\\n\")\n",
    "\n",
    "\n",
    "#run the test cases\n",
    "test_rotl()"
   ]
  },
  {
   "cell_type": "markdown",
   "metadata": {},
   "source": [
    "## rotr(x, n = 1)"
   ]
  },
  {
   "cell_type": "code",
   "execution_count": 30,
   "metadata": {},
   "outputs": [],
   "source": [
    "def rotr(x, n = 1):\n",
    "    \"\"\"Rotate a 32-bit unsigned integer right by n positions. \"\"\"\n",
    "    n = n % 32\n",
    "    return ((x >> n) | (x << (32 - n))) & 0xFFFFFFFF\n",
    "\n"
   ]
  },
  {
   "cell_type": "code",
   "execution_count": 31,
   "metadata": {},
   "outputs": [
    {
     "name": "stdout",
     "output_type": "stream",
     "text": [
      "Test 1: Rotating 0x12345678 right by 4 positions\n",
      "Expected: 0x81234567\n",
      "Got:      0x81234567\n",
      "Result:     True\n",
      "\n",
      "Test 2: Rotating 0x80000000 right by 1 position\n",
      "Expected: 0x80000000\n",
      "Got:      0x80000000\n",
      "Result:     True\n",
      "\n",
      "Test 3: Rotating 0xFFFFFFFF right by 0 positions\n",
      "Expected: 0xffffffff\n",
      "Got:      0xffffffff\n",
      "Result:     True\n",
      "\n"
     ]
    }
   ],
   "source": [
    "def test_rotr():\n",
    "    #test cases for rotr\n",
    "\n",
    "    #test case 1 rotate right by 4 positions\n",
    "    print(\"Test 1: Rotating 0x12345678 right by 4 positions\")\n",
    "    result = rotr(0x12345678, 4)\n",
    "    expected = 0x81234567\n",
    "    print(f\"Expected: {hex(expected)}\")\n",
    "    print(f\"Got:      {hex(result)}\")\n",
    "    print(f\"Result:     {result == expected}\\n\")\n",
    "\n",
    "    #test case 2 rotate right by 1 positions\n",
    "    print(\"Test 2: Rotating 0x80000000 right by 1 position\")\n",
    "    result = rotr(0x00000001, 1)\n",
    "    expected = 0x80000000\n",
    "    print(f\"Expected: {hex(expected)}\")\n",
    "    print(f\"Got:      {hex(result)}\")\n",
    "    print(f\"Result:     {result == expected}\\n\")\n",
    "\n",
    "    #test case 3 rotate right by 0 positions\n",
    "    print(\"Test 3: Rotating 0xFFFFFFFF right by 0 positions\")\n",
    "    result = rotr(0xFFFFFFFF, 0)\n",
    "    expected = 0xFFFFFFFF\n",
    "    print(f\"Expected: {hex(expected)}\")\n",
    "    print(f\"Got:      {hex(result)}\")\n",
    "    print(f\"Result:     {result == expected}\\n\")\n",
    "\n",
    "\n",
    "#run the test cases\n",
    "test_rotr()"
   ]
  },
  {
   "cell_type": "markdown",
   "metadata": {},
   "source": [
    "## ch(x, y, z)"
   ]
  },
  {
   "cell_type": "code",
   "execution_count": 32,
   "metadata": {},
   "outputs": [],
   "source": [
    "def ch(x, y, z):\n",
    "    \"\"\"Choose bits from y where x has 1s and from z where x has 0s.\"\"\"\n",
    "    return (x & y) ^ (~x & z)\n",
    "\n"
   ]
  },
  {
   "cell_type": "code",
   "execution_count": 33,
   "metadata": {},
   "outputs": [
    {
     "name": "stdout",
     "output_type": "stream",
     "text": [
      "Test 1: x is all 1s (should select from y)\n",
      "x:        0xffffffff\n",
      "y:        0xaaaaaaaa\n",
      "z:        0x55555555\n",
      "Expected: 0xaaaaaaaa\n",
      "Got:      0xaaaaaaaa\n",
      "Result:   True\n",
      "\n",
      "Test 2: x is all 0s (should select from z)\n",
      "x:        0x0\n",
      "y:        0xaaaaaaaa\n",
      "z:        0x55555555\n",
      "Expected: 0x55555555\n",
      "Got:      0x55555555\n",
      "Result:   True\n",
      "\n",
      "Test 3: x is alternating 1s and 0s\n",
      "x:        0xf0f0f0f0\n",
      "y:        0xaaaaaaaa\n",
      "z:        0x55555555\n",
      "Expected: 0xaa555555\n",
      "Got:      0xa5a5a5a5\n",
      "Result:   False\n",
      "\n"
     ]
    }
   ],
   "source": [
    "def test_ch():\n",
    "    \"\"\"Test cases for ch (choose) function\"\"\"\n",
    "    \n",
    "    # Test case 1: When x is all 1s, should select all bits from y\n",
    "    print(\"Test 1: x is all 1s (should select from y)\")\n",
    "    x, y, z = 0xFFFFFFFF, 0xAAAAAAAA, 0x55555555\n",
    "    result = ch(x, y, z)\n",
    "    expected = 0xAAAAAAAA\n",
    "    print(f\"x:        {hex(x)}\")\n",
    "    print(f\"y:        {hex(y)}\")\n",
    "    print(f\"z:        {hex(z)}\")\n",
    "    print(f\"Expected: {hex(expected)}\")\n",
    "    print(f\"Got:      {hex(result)}\")\n",
    "    print(f\"Result:   {result == expected}\\n\")\n",
    "\n",
    "    # Test case 2: When x is all 0s, should select all bits from z\n",
    "    print(\"Test 2: x is all 0s (should select from z)\")\n",
    "    x, y, z = 0x00000000, 0xAAAAAAAA, 0x55555555\n",
    "    result = ch(x, y, z)\n",
    "    expected = 0x55555555\n",
    "    print(f\"x:        {hex(x)}\")\n",
    "    print(f\"y:        {hex(y)}\")\n",
    "    print(f\"z:        {hex(z)}\")\n",
    "    print(f\"Expected: {hex(expected)}\")\n",
    "    print(f\"Got:      {hex(result)}\")\n",
    "    print(f\"Result:   {result == expected}\\n\")\n",
    "\n",
    "    # Test case 3: When x is alternating 1s and 0s\n",
    "    print(\"Test 3: x is alternating 1s and 0s\")\n",
    "    x, y, z = 0xF0F0F0F0, 0xAAAAAAAA, 0x55555555\n",
    "    result = ch(x, y, z)\n",
    "    expected = 0xAA555555\n",
    "    print(f\"x:        {hex(x)}\")\n",
    "    print(f\"y:        {hex(y)}\")\n",
    "    print(f\"z:        {hex(z)}\")\n",
    "    print(f\"Expected: {hex(expected)}\")\n",
    "    print(f\"Got:      {hex(result)}\")\n",
    "    print(f\"Result:   {result == expected}\\n\")\n",
    "\n",
    "# Run the tests\n",
    "test_ch()"
   ]
  },
  {
   "cell_type": "markdown",
   "metadata": {},
   "source": [
    "## maj(x, y, z)"
   ]
  },
  {
   "cell_type": "code",
   "execution_count": 34,
   "metadata": {},
   "outputs": [],
   "source": [
    "def maj(x, y, z):\n",
    "    \"\"\"Take majority vote of bits in x, y, and z. \"\"\"\n",
    "    return (x & y) ^ (x & z) ^ (y & z)"
   ]
  },
  {
   "cell_type": "code",
   "execution_count": 35,
   "metadata": {},
   "outputs": [
    {
     "name": "stdout",
     "output_type": "stream",
     "text": [
      "Test 1: Two inputs are all 1s\n",
      "Expected: 0xffffffff\n",
      "Got:      0xffffffff\n",
      "Result:     True\n",
      "\n",
      "Test 2: Two inputs are all 0s\n",
      "Expected: 0x0\n",
      "Got:      0x0\n",
      "Result:     True\n",
      "\n",
      "Test 3: Alternating patterns\n",
      "Expected: 0x50505050\n",
      "Got:      0xf0f0f0f0\n",
      "Result:     False\n",
      "\n"
     ]
    }
   ],
   "source": [
    "def test_maj():\n",
    "    #test cases for maj\n",
    "\n",
    "    #test case 1 when two inputs are all 1s\n",
    "    print(\"Test 1: Two inputs are all 1s\")\n",
    "    result = maj(0xFFFFFFFF, 0xFFFFFFFF, 0x00000000)\n",
    "    expected = 0xFFFFFFFF\n",
    "    print(f\"Expected: {hex(expected)}\")\n",
    "    print(f\"Got:      {hex(result)}\")\n",
    "    print(f\"Result:     {result == expected}\\n\")\n",
    "\n",
    "    #test case 2 when two inputs are all 0s\n",
    "    print(\"Test 2: Two inputs are all 0s\")\n",
    "    result = maj(0x00000000, 0x00000000, 0xFFFFFFFF)\n",
    "    expected = 0x00000000\n",
    "    print(f\"Expected: {hex(expected)}\")\n",
    "    print(f\"Got:      {hex(result)}\")\n",
    "    print(f\"Result:     {result == expected}\\n\")\n",
    "\n",
    "    #test case 3 with alternating patterns\n",
    "    print(\"Test 3: Alternating patterns\")\n",
    "    result = maj(0xF0F0F0F0, 0xAAAAAAAA, 0x55555555)\n",
    "    expected = 0x50505050\n",
    "    print(f\"Expected: {hex(expected)}\")\n",
    "    print(f\"Got:      {hex(result)}\")\n",
    "    print(f\"Result:     {result == expected}\\n\")\n",
    "\n",
    "\n",
    "#run the test cases\n",
    "test_maj()"
   ]
  },
  {
   "cell_type": "markdown",
   "metadata": {},
   "source": [
    "# Task 2: Hash Functions"
   ]
  },
  {
   "cell_type": "markdown",
   "metadata": {},
   "source": [
    "## Introduction\n",
    "In this task we investigate and convert a C classic hash function, first presented in The C Programming Language by Brian Kernighan and Dennis Ritchie into Python. A fundamental idea in computer science, hash functions are widely used in data structures including hash tables to effectively store and access data.\n",
    "\n",
    "This work calls for me to translate a rudimentary C-style hash function into Python. It generates a running hash value by iteratively over every character in a string. ord(char) assigns each character's Unicode value. The outcome is limited to a set range by being taken modulo 101.\n",
    "\n",
    "original hash function:\n",
    "```c\n",
    "unsigned hash(char *s) {\n",
    "    unsigned hashval;\n",
    "    for (hashval = 0; *s != '\\0'; s++)\n",
    "        hashval = *s + 31 * hashval;\n",
    "    return hashval % 101;\n",
    "}\n",
    "```\n"
   ]
  },
  {
   "cell_type": "markdown",
   "metadata": {},
   "source": [
    "Since 31 is a prime number, it has excellent distribution properties for strings and can be optimised by most compilers using (n << 5) - n. For this reason, it is frequently used in hash functions. Subsequently, 101 is employed since it is a prime number as well as sufficiently large to offer respectable distribution while remaining compact. A more even distribution of hash values can be achieved by taking a module by a prime number."
   ]
  },
  {
   "cell_type": "markdown",
   "metadata": {},
   "source": [
    "### Task2 Code"
   ]
  },
  {
   "cell_type": "code",
   "execution_count": 36,
   "metadata": {},
   "outputs": [],
   "source": [
    "#hash function\n",
    "def hash_func(s):\n",
    "\n",
    "    hashval = 0\n",
    "    for char in s:\n",
    "        hashval = ord(char) + 31 * hashval\n",
    "    return hashval % 101"
   ]
  },
  {
   "cell_type": "code",
   "execution_count": 37,
   "metadata": {},
   "outputs": [
    {
     "name": "stdout",
     "output_type": "stream",
     "text": [
      "Hash for 'hello': 17\n",
      "Hash for empty string: 0\n",
      "Hash for 'Hello': 46\n"
     ]
    }
   ],
   "source": [
    "#testing hash function\n",
    "#test 1: Simple word\n",
    "result1 = hash_func(\"hello\")\n",
    "print(\"Hash for 'hello':\", result1)\n",
    "\n",
    "#test 2: Empty string\n",
    "result2 = hash_func(\"\")\n",
    "print(\"Hash for empty string:\", result2)\n",
    "\n",
    "#test 3: Case sensitivity\n",
    "result3 = hash_func(\"Hello\")  # Capital 'H'\n",
    "print(\"Hash for 'Hello':\", result3)\n"
   ]
  },
  {
   "cell_type": "markdown",
   "metadata": {},
   "source": [
    "### Ref\n",
    "- https://medium.com/codefile/the-c-programming-language-by-kernighan-and-ritchie-6bbcbd923f1f\n",
    "- https://en.wikipedia.org/wiki/Hash_function"
   ]
  },
  {
   "cell_type": "markdown",
   "metadata": {},
   "source": [
    "---\n",
    "Task 3: SHA256\n",
    "---"
   ]
  },
  {
   "cell_type": "markdown",
   "metadata": {},
   "source": [
    "### Introduction\n",
    "In this task, we go through the concept of message padding implemented in the SHA-256 cryptographic hash algorithm. Padding is a very important preprocessing step in SHA-256 that ensures the message length meets specific structural requirements. Before hashing, messages must be padded so their length in bits is congruent to 448 modulo 512, allowing room for a final 64 bit length encoding. This task we go through on how to create a Python function that implements SHA 256 style padding for any given input file.  The appropriate padding is then added using bitwise logic and byte manipulation techniques. This includes a sequence of zero bits, a single 1-bit represented as 0x80, and the original message length encoded as a 64-bit big-endian integer. Gaining knowledge of this procedure helps one to understand how hash algorithms such as SHA-256 preserve security and structural integrity while transforming data.\n"
   ]
  },
  {
   "cell_type": "markdown",
   "metadata": {},
   "source": [
    "Code"
   ]
  },
  {
   "cell_type": "code",
   "execution_count": 38,
   "metadata": {},
   "outputs": [
    {
     "name": "stdout",
     "output_type": "stream",
     "text": [
      "SHA-256 Padding:\n",
      "80 00 00 00 00 00 00 00 00 00 00 00 00 00 00 00\n",
      "00 00 00 00 00 00 00 00 00 00 00 00 00 00 00 00\n",
      "00 00 00 00 00 00 00 00 00 00 00 00 00 00 00 00\n",
      "00 00 00 00 00 00 00 00 00 00 00 00 18\n"
     ]
    }
   ],
   "source": [
    "\n",
    "\n",
    "#Task3 here we define function \n",
    "def padding_sha256(file_path):\n",
    "    \n",
    "\n",
    "    #this reads the file as bytes\n",
    "    with open(file_path, 'rb') as f:\n",
    "        message  = f.read()\n",
    "\n",
    "    #this calculates the original length of the message in bits\n",
    "    first_bit_lenght = len(message ) * 8\n",
    "\n",
    "    #this initilizes padding with 1 bit in hex\n",
    "    padding = bytearray([0x80])\n",
    "\n",
    "    #here we calculate the number of 0x00 bytes needed\n",
    "    # add 1 for the 0x80 byte\n",
    "    total_len = len(message) + 1\n",
    "    pad_len = (56 - total_len % 64) % 64  \n",
    "\n",
    "    #add the 0x00 bytes for padding\n",
    "    padding.extend([0x00] * pad_len)\n",
    "\n",
    "    #this adds the length of the original message as a 64 bit integer\n",
    "    padding.extend(first_bit_lenght.to_bytes(8, byteorder='big'))\n",
    "\n",
    "    #this prints the padded message in 16 byte chunks\n",
    "    print('SHA-256 Padding:')\n",
    "    for i in range(0, len(padding), 16):\n",
    "        print(' '.join(f'{byte:02x}' for byte in padding[i:i+16]))\n",
    "\n",
    "\n",
    "\n",
    "#test\n",
    "padding_sha256('test_sha256.txt')\n"
   ]
  }
 ],
 "metadata": {
  "kernelspec": {
   "display_name": "Python 3",
   "language": "python",
   "name": "python3"
  },
  "language_info": {
   "codemirror_mode": {
    "name": "ipython",
    "version": 3
   },
   "file_extension": ".py",
   "mimetype": "text/x-python",
   "name": "python",
   "nbconvert_exporter": "python",
   "pygments_lexer": "ipython3",
   "version": "3.12.1"
  }
 },
 "nbformat": 4,
 "nbformat_minor": 2
}
