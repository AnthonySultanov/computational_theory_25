{
 "cells": [
  {
   "cell_type": "code",
   "execution_count": 39,
   "metadata": {},
   "outputs": [],
   "source": [
    "import numpy as np  \n",
    "import matplotlib.pyplot as plt\n",
    "import os\n",
    "import math\n",
    "import hashlib"
   ]
  },
  {
   "cell_type": "markdown",
   "metadata": {},
   "source": [
    "---\n",
    "# Task1: Binary Representations\n",
    "---"
   ]
  },
  {
   "cell_type": "markdown",
   "metadata": {},
   "source": [
    "### Introduction\n",
    "In this task we investigate basic binary operations applied in low level programming and encryption.We then carry out four main tasks: rotl, rotr, ch, and maj. Many cryptographic algorithms, including SHA-256, are based on these operations, which are also indispensable for bit level binary data manipulation.\n"
   ]
  },
  {
   "cell_type": "markdown",
   "metadata": {},
   "source": [
    "## rotl(x, n = 1)"
   ]
  },
  {
   "cell_type": "code",
   "execution_count": 40,
   "metadata": {},
   "outputs": [],
   "source": [
    "def rotl(x, n = 1):\n",
    "    \"\"\"Rotate a 32-bit unsigned integer left by n positions.\"\"\"\n",
    "    n = n % 32\n",
    "    return ((x << n) | (x >> (32 - n))) & 0xFFFFFFFF\n",
    "\n"
   ]
  },
  {
   "cell_type": "code",
   "execution_count": 41,
   "metadata": {},
   "outputs": [
    {
     "name": "stdout",
     "output_type": "stream",
     "text": [
      "Test 1: Rotating 0x12345678 left by 4 positions\n",
      "Expected: 0x23456781\n",
      "Got:      0x23456781\n",
      "Result:     True\n",
      "\n",
      "Test 2: Rotating 0x80000000 left by 1 position\n",
      "Expected: 0x1\n",
      "Got:      0x1\n",
      "Result:     True\n",
      "\n",
      "Test 3: Rotating 0xFFFFFFFF left by 0 positions\n",
      "Expected: 0xffffffff\n",
      "Got:      0xffffffff\n",
      "Result:     True\n",
      "\n"
     ]
    }
   ],
   "source": [
    "def test_rotl():\n",
    "    #test cases for rotl\n",
    "\n",
    "    #test case 1 rotate left by 4 positions\n",
    "    print(\"Test 1: Rotating 0x12345678 left by 4 positions\")\n",
    "    result = rotl(0x12345678, 4)\n",
    "    expected = 0x23456781\n",
    "    print(f\"Expected: {hex(expected)}\")\n",
    "    print(f\"Got:      {hex(result)}\")\n",
    "    print(f\"Result:     {result == expected}\\n\")\n",
    "\n",
    "    #test case 2 rotate left by 1 positions\n",
    "    print(\"Test 2: Rotating 0x80000000 left by 1 position\")\n",
    "    result = rotl(0x80000000, 1)\n",
    "    expected = 0x00000001\n",
    "    print(f\"Expected: {hex(expected)}\")\n",
    "    print(f\"Got:      {hex(result)}\")\n",
    "    print(f\"Result:     {result == expected}\\n\")\n",
    "\n",
    "    #test case 3 rotate left by 0 positions\n",
    "    print(\"Test 3: Rotating 0xFFFFFFFF left by 0 positions\")\n",
    "    result = rotl(0xFFFFFFFF, 0)\n",
    "    expected = 0xFFFFFFFF\n",
    "    print(f\"Expected: {hex(expected)}\")\n",
    "    print(f\"Got:      {hex(result)}\")\n",
    "    print(f\"Result:     {result == expected}\\n\")\n",
    "\n",
    "\n",
    "#run the test cases\n",
    "test_rotl()"
   ]
  },
  {
   "cell_type": "markdown",
   "metadata": {},
   "source": [
    "## rotr(x, n = 1)"
   ]
  },
  {
   "cell_type": "code",
   "execution_count": 42,
   "metadata": {},
   "outputs": [],
   "source": [
    "def rotr(x, n = 1):\n",
    "    \"\"\"Rotate a 32-bit unsigned integer right by n positions. \"\"\"\n",
    "    n = n % 32\n",
    "    return ((x >> n) | (x << (32 - n))) & 0xFFFFFFFF\n",
    "\n"
   ]
  },
  {
   "cell_type": "code",
   "execution_count": 43,
   "metadata": {},
   "outputs": [
    {
     "name": "stdout",
     "output_type": "stream",
     "text": [
      "Test 1: Rotating 0x12345678 right by 4 positions\n",
      "Expected: 0x81234567\n",
      "Got:      0x81234567\n",
      "Result:     True\n",
      "\n",
      "Test 2: Rotating 0x80000000 right by 1 position\n",
      "Expected: 0x80000000\n",
      "Got:      0x80000000\n",
      "Result:     True\n",
      "\n",
      "Test 3: Rotating 0xFFFFFFFF right by 0 positions\n",
      "Expected: 0xffffffff\n",
      "Got:      0xffffffff\n",
      "Result:     True\n",
      "\n"
     ]
    }
   ],
   "source": [
    "def test_rotr():\n",
    "    #test cases for rotr\n",
    "\n",
    "    #test case 1 rotate right by 4 positions\n",
    "    print(\"Test 1: Rotating 0x12345678 right by 4 positions\")\n",
    "    result = rotr(0x12345678, 4)\n",
    "    expected = 0x81234567\n",
    "    print(f\"Expected: {hex(expected)}\")\n",
    "    print(f\"Got:      {hex(result)}\")\n",
    "    print(f\"Result:     {result == expected}\\n\")\n",
    "\n",
    "    #test case 2 rotate right by 1 positions\n",
    "    print(\"Test 2: Rotating 0x80000000 right by 1 position\")\n",
    "    result = rotr(0x00000001, 1)\n",
    "    expected = 0x80000000\n",
    "    print(f\"Expected: {hex(expected)}\")\n",
    "    print(f\"Got:      {hex(result)}\")\n",
    "    print(f\"Result:     {result == expected}\\n\")\n",
    "\n",
    "    #test case 3 rotate right by 0 positions\n",
    "    print(\"Test 3: Rotating 0xFFFFFFFF right by 0 positions\")\n",
    "    result = rotr(0xFFFFFFFF, 0)\n",
    "    expected = 0xFFFFFFFF\n",
    "    print(f\"Expected: {hex(expected)}\")\n",
    "    print(f\"Got:      {hex(result)}\")\n",
    "    print(f\"Result:     {result == expected}\\n\")\n",
    "\n",
    "\n",
    "#run the test cases\n",
    "test_rotr()"
   ]
  },
  {
   "cell_type": "markdown",
   "metadata": {},
   "source": [
    "## ch(x, y, z)"
   ]
  },
  {
   "cell_type": "code",
   "execution_count": 44,
   "metadata": {},
   "outputs": [],
   "source": [
    "def ch(x, y, z):\n",
    "    \"\"\"Choose bits from y where x has 1s and from z where x has 0s.\"\"\"\n",
    "    return (x & y) ^ (~x & z)\n",
    "\n"
   ]
  },
  {
   "cell_type": "code",
   "execution_count": 45,
   "metadata": {},
   "outputs": [
    {
     "name": "stdout",
     "output_type": "stream",
     "text": [
      "Test 1: x is all 1s (should select from y)\n",
      "x:        0xffffffff\n",
      "y:        0xaaaaaaaa\n",
      "z:        0x55555555\n",
      "Expected: 0xaaaaaaaa\n",
      "Got:      0xaaaaaaaa\n",
      "Result:   True\n",
      "\n",
      "Test 2: x is all 0s (should select from z)\n",
      "x:        0x0\n",
      "y:        0xaaaaaaaa\n",
      "z:        0x55555555\n",
      "Expected: 0x55555555\n",
      "Got:      0x55555555\n",
      "Result:   True\n",
      "\n",
      "Test 3: x is alternating 1s and 0s\n",
      "x:        0xf0f0f0f0\n",
      "y:        0xaaaaaaaa\n",
      "z:        0x55555555\n",
      "Expected: 0xaa555555\n",
      "Got:      0xa5a5a5a5\n",
      "Result:   False\n",
      "\n"
     ]
    }
   ],
   "source": [
    "def test_ch():\n",
    "    \"\"\"Test cases for ch (choose) function\"\"\"\n",
    "    \n",
    "    # Test case 1: When x is all 1s, should select all bits from y\n",
    "    print(\"Test 1: x is all 1s (should select from y)\")\n",
    "    x, y, z = 0xFFFFFFFF, 0xAAAAAAAA, 0x55555555\n",
    "    result = ch(x, y, z)\n",
    "    expected = 0xAAAAAAAA\n",
    "    print(f\"x:        {hex(x)}\")\n",
    "    print(f\"y:        {hex(y)}\")\n",
    "    print(f\"z:        {hex(z)}\")\n",
    "    print(f\"Expected: {hex(expected)}\")\n",
    "    print(f\"Got:      {hex(result)}\")\n",
    "    print(f\"Result:   {result == expected}\\n\")\n",
    "\n",
    "    # Test case 2: When x is all 0s, should select all bits from z\n",
    "    print(\"Test 2: x is all 0s (should select from z)\")\n",
    "    x, y, z = 0x00000000, 0xAAAAAAAA, 0x55555555\n",
    "    result = ch(x, y, z)\n",
    "    expected = 0x55555555\n",
    "    print(f\"x:        {hex(x)}\")\n",
    "    print(f\"y:        {hex(y)}\")\n",
    "    print(f\"z:        {hex(z)}\")\n",
    "    print(f\"Expected: {hex(expected)}\")\n",
    "    print(f\"Got:      {hex(result)}\")\n",
    "    print(f\"Result:   {result == expected}\\n\")\n",
    "\n",
    "    # Test case 3: When x is alternating 1s and 0s\n",
    "    print(\"Test 3: x is alternating 1s and 0s\")\n",
    "    x, y, z = 0xF0F0F0F0, 0xAAAAAAAA, 0x55555555\n",
    "    result = ch(x, y, z)\n",
    "    expected = 0xAA555555\n",
    "    print(f\"x:        {hex(x)}\")\n",
    "    print(f\"y:        {hex(y)}\")\n",
    "    print(f\"z:        {hex(z)}\")\n",
    "    print(f\"Expected: {hex(expected)}\")\n",
    "    print(f\"Got:      {hex(result)}\")\n",
    "    print(f\"Result:   {result == expected}\\n\")\n",
    "\n",
    "# Run the tests\n",
    "test_ch()"
   ]
  },
  {
   "cell_type": "markdown",
   "metadata": {},
   "source": [
    "## maj(x, y, z)"
   ]
  },
  {
   "cell_type": "code",
   "execution_count": 46,
   "metadata": {},
   "outputs": [],
   "source": [
    "def maj(x, y, z):\n",
    "    \"\"\"Take majority vote of bits in x, y, and z. \"\"\"\n",
    "    return (x & y) ^ (x & z) ^ (y & z)"
   ]
  },
  {
   "cell_type": "code",
   "execution_count": 47,
   "metadata": {},
   "outputs": [
    {
     "name": "stdout",
     "output_type": "stream",
     "text": [
      "Test 1: Two inputs are all 1s\n",
      "Expected: 0xffffffff\n",
      "Got:      0xffffffff\n",
      "Result:     True\n",
      "\n",
      "Test 2: Two inputs are all 0s\n",
      "Expected: 0x0\n",
      "Got:      0x0\n",
      "Result:     True\n",
      "\n",
      "Test 3: Alternating patterns\n",
      "Expected: 0x50505050\n",
      "Got:      0xf0f0f0f0\n",
      "Result:     False\n",
      "\n"
     ]
    }
   ],
   "source": [
    "def test_maj():\n",
    "    #test cases for maj\n",
    "\n",
    "    #test case 1 when two inputs are all 1s\n",
    "    print(\"Test 1: Two inputs are all 1s\")\n",
    "    result = maj(0xFFFFFFFF, 0xFFFFFFFF, 0x00000000)\n",
    "    expected = 0xFFFFFFFF\n",
    "    print(f\"Expected: {hex(expected)}\")\n",
    "    print(f\"Got:      {hex(result)}\")\n",
    "    print(f\"Result:     {result == expected}\\n\")\n",
    "\n",
    "    #test case 2 when two inputs are all 0s\n",
    "    print(\"Test 2: Two inputs are all 0s\")\n",
    "    result = maj(0x00000000, 0x00000000, 0xFFFFFFFF)\n",
    "    expected = 0x00000000\n",
    "    print(f\"Expected: {hex(expected)}\")\n",
    "    print(f\"Got:      {hex(result)}\")\n",
    "    print(f\"Result:     {result == expected}\\n\")\n",
    "\n",
    "    #test case 3 with alternating patterns\n",
    "    print(\"Test 3: Alternating patterns\")\n",
    "    result = maj(0xF0F0F0F0, 0xAAAAAAAA, 0x55555555)\n",
    "    expected = 0x50505050\n",
    "    print(f\"Expected: {hex(expected)}\")\n",
    "    print(f\"Got:      {hex(result)}\")\n",
    "    print(f\"Result:     {result == expected}\\n\")\n",
    "\n",
    "\n",
    "#run the test cases\n",
    "test_maj()"
   ]
  },
  {
   "cell_type": "markdown",
   "metadata": {},
   "source": [
    "# Conclusion\n",
    "Task 1 shows the significance of low level bitwise operations in system level programming and cryptographic algorithms. Many difficult processes in cryptographic hash functions like SHA-256 are built on functions like rotl, rotr, ch, and maj. Gaining knowledge about how these operations change individual bits provides important insight into the safe and effective processing of data. In addition to reproducing behavior found in lower level languages like C, by putting these primitives into practice and testing them in Python, we also create a strong foundation for investigating and utilizing cryptographic algorithms and digital security measures in contemporary applications."
   ]
  },
  {
   "cell_type": "markdown",
   "metadata": {},
   "source": [
    "---\n",
    "# Task 2: Hash Functions\n",
    "---"
   ]
  },
  {
   "cell_type": "markdown",
   "metadata": {},
   "source": [
    "## Introduction\n",
    "In this task we investigate and convert a C classic hash function, first presented in The C Programming Language by Brian Kernighan and Dennis Ritchie into Python. A fundamental idea in computer science, hash functions are widely used in data structures including hash tables to effectively store and access data.\n",
    "\n",
    "This work calls for me to translate a rudimentary C-style hash function into Python. It generates a running hash value by iteratively over every character in a string. ord(char) assigns each character's Unicode value. The outcome is limited to a set range by being taken modulo 101.\n",
    "\n",
    "original hash function:\n",
    "```c\n",
    "unsigned hash(char *s) {\n",
    "    unsigned hashval;\n",
    "    for (hashval = 0; *s != '\\0'; s++)\n",
    "        hashval = *s + 31 * hashval;\n",
    "    return hashval % 101;\n",
    "}\n",
    "```\n"
   ]
  },
  {
   "cell_type": "markdown",
   "metadata": {},
   "source": [
    "Since 31 is a prime number, it has excellent distribution properties for strings and can be optimised by most compilers using (n << 5) - n. For this reason, it is frequently used in hash functions. Subsequently, 101 is employed since it is a prime number as well as sufficiently large to offer respectable distribution while remaining compact. A more even distribution of hash values can be achieved by taking a module by a prime number."
   ]
  },
  {
   "cell_type": "markdown",
   "metadata": {},
   "source": [
    "### Task2 Code"
   ]
  },
  {
   "cell_type": "code",
   "execution_count": 48,
   "metadata": {},
   "outputs": [],
   "source": [
    "#hash function\n",
    "def hash_func(s):\n",
    "\n",
    "    hashval = 0\n",
    "    for char in s:\n",
    "        hashval = ord(char) + 31 * hashval\n",
    "    return hashval % 101"
   ]
  },
  {
   "cell_type": "code",
   "execution_count": 49,
   "metadata": {},
   "outputs": [
    {
     "name": "stdout",
     "output_type": "stream",
     "text": [
      "Hash for 'hello': 17\n",
      "Hash for empty string: 0\n",
      "Hash for 'Hello': 46\n"
     ]
    }
   ],
   "source": [
    "#testing hash function\n",
    "#test 1: Simple word\n",
    "result1 = hash_func(\"hello\")\n",
    "print(\"Hash for 'hello':\", result1)\n",
    "\n",
    "#test 2: Empty string\n",
    "result2 = hash_func(\"\")\n",
    "print(\"Hash for empty string:\", result2)\n",
    "\n",
    "#test 3: Case sensitivity\n",
    "result3 = hash_func(\"Hello\")  # Capital 'H'\n",
    "print(\"Hash for 'Hello':\", result3)\n"
   ]
  },
  {
   "cell_type": "markdown",
   "metadata": {},
   "source": [
    "# Conclusion\n",
    "In task 2 we demonstrate how to efficiently use and translate the traditional C style hash functions  into Python while maintaining their efficiency and simplicity. first presented in The C Programming Language by Brian Kernighan and Dennis Ritchie into Python. A balanced distribution of hash values is provided by the hash function, which combines character encoding and a prime multiplier (31) to minimize collisions in data structures such as hash tables. This distribution is further improved by the final modulo operation with another prime number (101). Through this task, we learn about the fundamental design principles of hashing and how mathematical decisions, such as prime numbers, contribute to the creation of efficient and successful hash functions. When adapting low level algorithms to high level languages, it also highlights how crucial it is to comprehend how they function."
   ]
  },
  {
   "cell_type": "markdown",
   "metadata": {},
   "source": [
    "## Ref\n",
    "- https://medium.com/codefile/the-c-programming-language-by-kernighan-and-ritchie-6bbcbd923f1f\n",
    "- https://en.wikipedia.org/wiki/Hash_function"
   ]
  },
  {
   "cell_type": "markdown",
   "metadata": {},
   "source": [
    "---\n",
    "# Task 3: SHA256\n",
    "---"
   ]
  },
  {
   "cell_type": "markdown",
   "metadata": {},
   "source": [
    "## Introduction\n",
    "In this task, we go through the concept of message padding implemented in the SHA-256 cryptographic hash algorithm. Padding is a very important preprocessing step in SHA-256 that ensures the message length meets specific structural requirements. Before hashing, messages must be padded so their length in bits is congruent to 448 modulo 512, allowing room for a final 64 bit length encoding. This task we go through on how to create a Python function that implements SHA 256 style padding for any given input file.  The appropriate padding is then added using bitwise logic and byte manipulation techniques. This includes a sequence of zero bits, a single 1-bit represented as 0x80, and the original message length encoded as a 64-bit big-endian integer. Gaining knowledge of this procedure helps one to understand how hash algorithms such as SHA-256 preserve security and structural integrity while transforming data.\n"
   ]
  },
  {
   "cell_type": "markdown",
   "metadata": {},
   "source": [
    "## Code"
   ]
  },
  {
   "cell_type": "code",
   "execution_count": 50,
   "metadata": {},
   "outputs": [
    {
     "name": "stdout",
     "output_type": "stream",
     "text": [
      "SHA-256 Padding:\n",
      "80 00 00 00 00 00 00 00 00 00 00 00 00 00 00 00\n",
      "00 00 00 00 00 00 00 00 00 00 00 00 00 00 00 00\n",
      "00 00 00 00 00 00 00 00 00 00 00 00 00 00 00 00\n",
      "00 00 00 00 00 00 00 00 00 00 00 00 18\n"
     ]
    }
   ],
   "source": [
    "\n",
    "\n",
    "#Task3 here we define function \n",
    "def padding_sha256(file_path):\n",
    "    \n",
    "\n",
    "    #this reads the file as bytes\n",
    "    with open(file_path, 'rb') as f:\n",
    "        message  = f.read()\n",
    "\n",
    "    #this calculates the original length of the message in bits\n",
    "    first_bit_lenght = len(message ) * 8\n",
    "\n",
    "    #this initilizes padding with 1 bit in hex\n",
    "    padding = bytearray([0x80])\n",
    "\n",
    "    #here we calculate the number of 0x00 bytes needed\n",
    "    # add 1 for the 0x80 byte\n",
    "    total_len = len(message) + 1\n",
    "    pad_len = (56 - total_len % 64) % 64  \n",
    "\n",
    "    #add the 0x00 bytes for padding\n",
    "    padding.extend([0x00] * pad_len)\n",
    "\n",
    "    #this adds the length of the original message as a 64 bit integer\n",
    "    padding.extend(first_bit_lenght.to_bytes(8, byteorder='big'))\n",
    "\n",
    "    #this prints the padded message in 16 byte chunks\n",
    "    print('SHA-256 Padding:')\n",
    "    for i in range(0, len(padding), 16):\n",
    "        print(' '.join(f'{byte:02x}' for byte in padding[i:i+16]))\n",
    "\n",
    "\n",
    "\n",
    "#test\n",
    "padding_sha256('test_sha256.txt')\n"
   ]
  },
  {
   "cell_type": "markdown",
   "metadata": {},
   "source": [
    "# Conclusion\n",
    "Understanding and implementing the SHA-256 padding process offers a deeper appreciation of how cryptographic hash functions maintain structural requirements and data integrity.Padding ensures that the input message fits the fixed size block structure required by the algorithm while securely appending the original message length. This function is used as a important step in comprehending and potentially implementing hashing algorithms from scratch, highlighting the importance of precision in cryptographic systems."
   ]
  },
  {
   "cell_type": "markdown",
   "metadata": {},
   "source": [
    "## Ref\n",
    "- https://en.wikipedia.org/wiki/SHA-2"
   ]
  },
  {
   "cell_type": "markdown",
   "metadata": {},
   "source": [
    "---\n",
    "# Task 4: Prime Numbers\n",
    "---"
   ]
  },
  {
   "cell_type": "markdown",
   "metadata": {},
   "source": [
    "## Introduction\n",
    "Prime numbers are important to number theory and play a crucial role in various fields including cryptography, computer science, and mathematics. Any natural number larger than one that has no divisors besides one and itself is called a prime number. Our goal in this task is to use two proven algorithms to calculate the first 100 prime numbers:\n",
    "\n",
    "**1. Iterative Prime Checking:**  This technique determines whether a given number is divisible by any previously discovered prime by checking each one individually. It is added to the list of primes if it isn't. Although it is simple, it is not the most effective method for big datasets.\n",
    "\n",
    "**2. Sieve of Eratosthenes:**  This classic algorithm efficiently finds all primes up to a specified limit by systematically eliminating the multiples of each prime starting from 2 When producing a large number of primes, it is noticeably faster.\n",
    "\n",
    "We will implement both strategies into practice in Python, evaluate their results, and confirm that they're accurate."
   ]
  },
  {
   "cell_type": "markdown",
   "metadata": {},
   "source": [
    "## Iterative Prime Checking Method"
   ]
  },
  {
   "cell_type": "code",
   "execution_count": 51,
   "metadata": {},
   "outputs": [
    {
     "name": "stdout",
     "output_type": "stream",
     "text": [
      "Is 2 prime: True\n",
      "Is 3 prime: True\n",
      "Is 4 prime: False\n",
      "Is 5 prime: True\n",
      "Is 6 prime: False\n",
      "Is 7 prime: True\n"
     ]
    }
   ],
   "source": [
    "#here we define a function to generate the first n primes\n",
    "def primenum(n, primes):\n",
    "    for p in primes:\n",
    "        if p * p > n:\n",
    "            break\n",
    "        if n % p == 0:\n",
    "            return False\n",
    "    return True\n",
    "\n",
    "#test\n",
    "\n",
    "#known prime list to test against\n",
    "known_primes = [2, 3, 5]\n",
    "print(\"Is 2 prime:\", primenum(2, []))\n",
    "print(\"Is 3 prime:\", primenum(3, [2])) \n",
    "print(\"Is 4 prime:\", primenum(4, [2]))\n",
    "print(\"Is 5 prime:\", primenum(5, [2, 3]))\n",
    "print(\"Is 6 prime:\", primenum(6, [2, 3, 5]))             \n",
    "print(\"Is 7 prime:\", primenum(7, [2, 3, 5]))"
   ]
  },
  {
   "cell_type": "code",
   "execution_count": 52,
   "metadata": {},
   "outputs": [
    {
     "name": "stdout",
     "output_type": "stream",
     "text": [
      "First 50 primes (Iterative):\n",
      "[2, 3, 5, 7, 11, 13, 17, 19, 23, 29, 31, 37, 41, 43, 47, 53, 59, 61, 67, 71, 73, 79, 83, 89, 97, 101, 103, 107, 109, 113, 127, 131, 137, 139, 149, 151, 157, 163, 167, 173, 179, 181, 191, 193, 197, 199, 211, 223, 227, 229]\n"
     ]
    }
   ],
   "source": [
    "def prime_iterative(limit):\n",
    "    #here prims is empty list and candidate is 2 because 2 is the first prime\n",
    "    primes = []\n",
    "    candidate = 2\n",
    "    #this loop continues until we have the desired number of primes\n",
    "    while len(primes) < limit:\n",
    "        if primenum(candidate, primes):\n",
    "            primes.append(candidate)\n",
    "        candidate += 1\n",
    "    return primes\n",
    "#this runs the function to generate the first 50 primes\n",
    "iterative_primes = prime_iterative(50)\n",
    "print(\"First 50 primes (Iterative):\")\n",
    "print(iterative_primes)\n"
   ]
  },
  {
   "cell_type": "markdown",
   "metadata": {},
   "source": [
    "## Sieve of Eratosthenes Method"
   ]
  },
  {
   "cell_type": "code",
   "execution_count": 53,
   "metadata": {},
   "outputs": [],
   "source": [
    "\n",
    "\n",
    "def prime_sieve_create(max):\n",
    "    #here we choose a max that should guarantees at least 100 primes\n",
    "    upper_bound = 400 \n",
    "    #here we create a list of boolean values to mark primes\n",
    "    is_prime = [True] * (upper_bound + 1) \n",
    "    #here we set 1 and 0 to not be prime\n",
    "    is_prime[0] = is_prime[1] = False \n",
    "\n",
    "    for p in range(2, int(upper_bound ** 0.5) + 1):\n",
    "        if is_prime[p]:\n",
    "            for i in range(p * p, upper_bound + 1, p):\n",
    "                is_prime[i] = False\n",
    "\n",
    "    primes = [i for i, flag in enumerate(is_prime) if flag]\n",
    "    return primes[:max]\n",
    "\n"
   ]
  },
  {
   "cell_type": "code",
   "execution_count": 54,
   "metadata": {},
   "outputs": [
    {
     "name": "stdout",
     "output_type": "stream",
     "text": [
      "First 50 primes (Sieve of Eratosthenes):\n",
      "[2, 3, 5, 7, 11, 13, 17, 19, 23, 29, 31, 37, 41, 43, 47, 53, 59, 61, 67, 71, 73, 79, 83, 89, 97, 101, 103, 107, 109, 113, 127, 131, 137, 139, 149, 151, 157, 163, 167, 173, 179, 181, 191, 193, 197, 199, 211, 223, 227, 229]\n"
     ]
    }
   ],
   "source": [
    "\n",
    "sieve_primes = prime_sieve_create(50)\n",
    "print(\"First 50 primes (Sieve of Eratosthenes):\")\n",
    "print(sieve_primes)\n",
    "\n"
   ]
  },
  {
   "cell_type": "markdown",
   "metadata": {},
   "source": [
    "# Conclusion\n",
    "In this task, we successfully used two different ways to generating prime numbers: the **Iterative Prime Checking** method and the **Sieve of Eratosthenes**.\n",
    "\n",
    "- The **Iterative method** showed us to be much more simple and intuitive, checking each number against previously found primes. While it works well for generating a small number of primes, it becomes slower as the target number of primes increases due to repeated checks.\n",
    "  \n",
    "- The **Sieve of Eratosthenes**, on the other hand, was much faster and more efficient for generating a large list of primes. By marking multiples of known primes in a boolean list, it avoided redundant calculations and scaled much better with higher limits.\n",
    "\n",
    "Both methods produced accurate results and helped reinforce key concepts in prime number generation. For most practical and large-scale applications, the Sieve is the preferred method due to its superior performance and lower computational complexity."
   ]
  },
  {
   "cell_type": "markdown",
   "metadata": {},
   "source": [
    "## Reference\n",
    "- https://en.wikipedia.org/wiki/Sieve_of_Eratosthenes\n",
    "- https://www.geeksforgeeks.org/sieve-of-eratosthenes/\n",
    "- Lab Materials"
   ]
  },
  {
   "cell_type": "markdown",
   "metadata": {},
   "source": [
    "---\n",
    "# Task 5: Roots\n",
    "---"
   ]
  },
  {
   "cell_type": "markdown",
   "metadata": {},
   "source": [
    "## Introduction\n",
    "This task we will investigate the process of extracting the fractional part of a square root in a 32 bit binary representation. This method is applied to hash functions such as those in SHA algorithms and cryptographic applications. The first 100 prime numbers will be created, their square roots will be calculated, and the 32-bit fractional binary value will be extracted."
   ]
  },
  {
   "cell_type": "markdown",
   "metadata": {},
   "source": [
    "### (Step1) First we generate 100 primes using above functions"
   ]
  },
  {
   "cell_type": "code",
   "execution_count": 55,
   "metadata": {},
   "outputs": [
    {
     "name": "stdout",
     "output_type": "stream",
     "text": [
      "[2, 3, 5, 7, 11, 13, 17, 19, 23, 29, 31, 37, 41, 43, 47, 53, 59, 61, 67, 71, 73, 79, 83, 89, 97, 101, 103, 107, 109, 113, 127, 131, 137, 139, 149, 151, 157, 163, 167, 173, 179, 181, 191, 193, 197, 199, 211, 223, 227, 229, 233, 239, 241, 251, 257, 263, 269, 271, 277, 281, 283, 293, 307, 311, 313, 317, 331, 337, 347, 349, 353, 359, 367, 373, 379, 383, 389, 397, 401, 409, 419, 421, 431, 433, 439, 443, 449, 457, 461, 463, 467, 479, 487, 491, 499, 503, 509, 521, 523, 541]\n"
     ]
    }
   ],
   "source": [
    "primes100 = prime_iterative(100)\n",
    "print(primes100)"
   ]
  },
  {
   "cell_type": "markdown",
   "metadata": {},
   "source": [
    "### (Step 2) Then we are going to extract the 32-bit Binary Fractional Part of the Square Root"
   ]
  },
  {
   "cell_type": "code",
   "execution_count": 56,
   "metadata": {},
   "outputs": [],
   "source": [
    "\n",
    "\n",
    "def fractional_32bit(num):\n",
    "    root = math.sqrt(num)\n",
    "    frac_part = root - math.floor(root)\n",
    "    #this converts the fractional part to a 32 bit integer\n",
    "    #this multiplying it by 2^32\n",
    "    frac_32bit = int(frac_part * (2 ** 32))\n",
    "    return frac_32bit\n",
    "\n"
   ]
  },
  {
   "cell_type": "markdown",
   "metadata": {},
   "source": [
    "### (Step 3) Running the Task to Display Prime Numbers, Square Roots, and Their 32-bit Fractional Parts"
   ]
  },
  {
   "cell_type": "code",
   "execution_count": 57,
   "metadata": {},
   "outputs": [
    {
     "name": "stdout",
     "output_type": "stream",
     "text": [
      "Prime\tSqrt\t\tFractional Part\t\tFirst 32 Bits (hex)\n",
      "2\t1.4142135624\t0.4142135624\t0x6a09e667\n",
      "3\t1.7320508076\t0.7320508076\t0xbb67ae85\n",
      "5\t2.2360679775\t0.2360679775\t0x3c6ef372\n",
      "7\t2.6457513111\t0.6457513111\t0xa54ff53a\n",
      "11\t3.3166247904\t0.3166247904\t0x510e527f\n",
      "13\t3.6055512755\t0.6055512755\t0x9b05688c\n",
      "17\t4.1231056256\t0.1231056256\t0x1f83d9ab\n",
      "19\t4.3588989435\t0.3588989435\t0x5be0cd19\n",
      "23\t4.7958315233\t0.7958315233\t0xcbbb9d5d\n",
      "29\t5.3851648071\t0.3851648071\t0x629a292a\n",
      "31\t5.5677643628\t0.5677643628\t0x9159015a\n",
      "37\t6.0827625303\t0.0827625303\t0x152fecd8\n",
      "41\t6.4031242374\t0.4031242374\t0x67332667\n",
      "43\t6.5574385243\t0.5574385243\t0x8eb44a87\n",
      "47\t6.8556546004\t0.8556546004\t0xdb0c2e0d\n",
      "53\t7.2801098893\t0.2801098893\t0x47b5481d\n",
      "59\t7.6811457479\t0.6811457479\t0xae5f9156\n",
      "61\t7.8102496759\t0.8102496759\t0xcf6c85d3\n",
      "67\t8.1853527719\t0.1853527719\t0x2f73477d\n",
      "71\t8.4261497732\t0.4261497732\t0x6d1826ca\n",
      "73\t8.5440037453\t0.5440037453\t0x8b43d457\n",
      "79\t8.8881944173\t0.8881944173\t0xe360b596\n",
      "83\t9.1104335791\t0.1104335791\t0x1c456002\n",
      "89\t9.4339811321\t0.4339811321\t0x6f196331\n",
      "97\t9.8488578018\t0.8488578018\t0xd94ebeb1\n",
      "101\t10.0498756211\t0.0498756211\t0x0cc4a611\n",
      "103\t10.1488915651\t0.1488915651\t0x261dc1f2\n",
      "107\t10.3440804328\t0.3440804328\t0x5815a7be\n",
      "109\t10.4403065089\t0.4403065089\t0x70b7ed67\n",
      "113\t10.6301458127\t0.6301458127\t0xa1513c69\n",
      "127\t11.2694276696\t0.2694276696\t0x44f93635\n",
      "131\t11.4455231423\t0.4455231423\t0x720dcdfd\n",
      "137\t11.7046999107\t0.7046999107\t0xb467369e\n",
      "139\t11.7898261226\t0.7898261226\t0xca320b75\n",
      "149\t12.2065556157\t0.2065556157\t0x34e0d42e\n",
      "151\t12.2882057274\t0.2882057274\t0x49c7d9bd\n",
      "157\t12.5299640861\t0.5299640861\t0x87abb9f2\n",
      "163\t12.7671453348\t0.7671453348\t0xc463a2fc\n",
      "167\t12.9228479833\t0.9228479833\t0xec3fc3f3\n",
      "173\t13.1529464380\t0.1529464380\t0x27277f6d\n",
      "179\t13.3790881603\t0.3790881603\t0x610bebf2\n",
      "181\t13.4536240471\t0.4536240471\t0x7420b49e\n",
      "191\t13.8202749611\t0.8202749611\t0xd1fd8a33\n",
      "193\t13.8924439894\t0.8924439894\t0xe4773594\n",
      "197\t14.0356688476\t0.0356688476\t0x092197f6\n",
      "199\t14.1067359797\t0.1067359797\t0x1b530c95\n",
      "211\t14.5258390463\t0.5258390463\t0x869d6342\n",
      "223\t14.9331845231\t0.9331845231\t0xeee52e4f\n",
      "227\t15.0665191733\t0.0665191733\t0x11076689\n",
      "229\t15.1327459504\t0.1327459504\t0x21fba37b\n",
      "233\t15.2643375225\t0.2643375225\t0x43ab9fb6\n",
      "239\t15.4596248337\t0.4596248337\t0x75a9f91d\n",
      "241\t15.5241746963\t0.5241746963\t0x86305019\n",
      "251\t15.8429795178\t0.8429795178\t0xd7cd8173\n",
      "257\t16.0312195419\t0.0312195419\t0x07fe00ff\n",
      "263\t16.2172747402\t0.2172747402\t0x379f513f\n",
      "269\t16.4012194669\t0.4012194669\t0x66b651a8\n",
      "271\t16.4620776332\t0.4620776332\t0x764ab842\n",
      "277\t16.6433169771\t0.6433169771\t0xa4b06be1\n",
      "281\t16.7630546142\t0.7630546142\t0xc3578c15\n",
      "283\t16.8226038413\t0.8226038413\t0xd2962a53\n",
      "293\t17.1172427686\t0.1172427686\t0x1e039f40\n",
      "307\t17.5214154679\t0.5214154679\t0x857b7bee\n",
      "311\t17.6351920885\t0.6351920885\t0xa29bf2de\n",
      "313\t17.6918060130\t0.6918060130\t0xb11a32e8\n",
      "317\t17.8044938148\t0.8044938148\t0xcdf34e80\n",
      "331\t18.1934053987\t0.1934053987\t0x31830426\n",
      "337\t18.3575597507\t0.3575597507\t0x5b89092b\n",
      "347\t18.6279360102\t0.6279360102\t0xa0c06a13\n",
      "349\t18.6815416923\t0.6815416923\t0xae79842f\n",
      "353\t18.7882942281\t0.7882942281\t0xc9cda689\n",
      "359\t18.9472953215\t0.9472953215\t0xf281f239\n",
      "367\t19.1572440607\t0.1572440607\t0x28412592\n",
      "373\t19.3132079158\t0.3132079158\t0x502e64db\n",
      "379\t19.4679223339\t0.4679223339\t0x77c9c211\n",
      "383\t19.5703857908\t0.5703857908\t0x9204cd9d\n",
      "389\t19.7230829233\t0.7230829233\t0xb91bf663\n",
      "397\t19.9248588452\t0.9248588452\t0xecc38c9d\n",
      "401\t20.0249843945\t0.0249843945\t0x06656095\n",
      "409\t20.2237484162\t0.2237484162\t0x39479381\n",
      "419\t20.4694894905\t0.4694894905\t0x78307697\n",
      "421\t20.5182845287\t0.5182845287\t0x84ae4b7c\n",
      "431\t20.7605394920\t0.7605394920\t0xc2b2b755\n",
      "433\t20.8086520467\t0.8086520467\t0xcf03d20e\n",
      "439\t20.9523268398\t0.9523268398\t0xf3cbb117\n",
      "443\t21.0475651798\t0.0475651798\t0x0c2d3b4b\n",
      "449\t21.1896201004\t0.1896201004\t0x308af161\n",
      "457\t21.3775583264\t0.3775583264\t0x60a7a998\n",
      "461\t21.4709105536\t0.4709105536\t0x788d9812\n",
      "463\t21.5174347914\t0.5174347914\t0x84769b42\n",
      "467\t21.6101827850\t0.6101827850\t0x9c34f062\n",
      "479\t21.8860686282\t0.8860686282\t0xe2d564c4\n",
      "487\t22.0680764907\t0.0680764907\t0x116d75fd\n",
      "491\t22.1585198062\t0.1585198062\t0x2894c107\n",
      "499\t22.3383079037\t0.3383079037\t0x569b58c6\n",
      "503\t22.4276614920\t0.4276614920\t0x6d7b3939\n",
      "509\t22.5610283454\t0.5610283454\t0x8f9f8dbb\n",
      "521\t22.8254244210\t0.8254244210\t0xd34f03cd\n",
      "523\t22.8691932521\t0.8691932521\t0xde8372ef\n",
      "541\t23.2594066992\t0.2594066992\t0x42687a39\n"
     ]
    }
   ],
   "source": [
    "\n",
    "\n",
    "def task5_roots():\n",
    "    print(\"Prime\\tSqrt\\t\\tFractional Part\\t\\tFirst 32 Bits (hex)\")\n",
    "    for prime in primes100:\n",
    "        #this calculates the square root of the prime\n",
    "        root = math.sqrt(prime)\n",
    "        #this calculates the fractional part of the square root\n",
    "        frac_part = root - math.floor(root)\n",
    "        #this converts the fractional part to a 32 bit integer\n",
    "        frac_32bit = fractional_32bit(prime)\n",
    "        print(f\"{prime}\\t{root:.10f}\\t{frac_part:.10f}\\t0x{frac_32bit:08x}\")\n",
    "\n",
    "#run the task 5 function\n",
    "task5_roots()\n"
   ]
  },
  {
   "cell_type": "markdown",
   "metadata": {},
   "source": [
    "\n",
    "# Conclusion\n",
    "\n",
    "In task 5, we went through the process of extracting the fractional part of the square root of prime numbers and representing that fraction in a 32 bit binary format. This technique is particularly useful in cryptography and hash functions, such as those used in SHA algorithms, where precise numerical representations of fractional parts are needed.\n",
    "\n",
    "Steps we went through\n",
    "\n",
    "1. ***Prime Number Generation:*** We used an iterative function to generate the first 100 prime numbers.\n",
    "\n",
    "2. ***Fractional Part Extraction:*** For each prime, we calculated the square root and isolated its fractional part. This fractional part was then converted into a 32 bit unsigned integer by multiplying it. \n",
    "\n",
    "3. ***Results Display:*** The results were printed in a table format showing each prime number, its square root, its fractional part, and the corresponding 32 bit hexadecimal representation of that fractional part.\n",
    "\n",
    "In summary, this task successfully demonstrated the application of fractional square roots and their 32 bit binary representations, forming a foundational understanding for further cryptographic exploration.\n"
   ]
  },
  {
   "cell_type": "markdown",
   "metadata": {},
   "source": [
    "---\n",
    "# Task 6: Proof of Work\n",
    "---"
   ]
  },
  {
   "cell_type": "markdown",
   "metadata": {},
   "source": [
    "### Introduction\n",
    "In task 6 we explore a cryptographic concept known as proof of work by applying it to English words. We adapt this idea to the domain of language, inspired by systems like Bitcoin, where computational effort is demonstrated by finding a value whose hash begins with a number of zero bits. Our objective is to identify words from the English language whose SHA-256 hash digests start with the highest number of leading zero bits.\n",
    "\n",
    "- To accomplish this, we load a comprehensive English word list and compute the SHA-256 hash for each word. Each digest is then converted into its binary representation, allowing us to count how many consecutive 0 bits appear at the beginning. The word(s) with the most leading zero bits are identified as the \"winners\" of this proof of work search.\n",
    "\n",
    "- To ensure validity, every candidate word is verified to appear in at least one reputable English dictionary. This procedure guarantees that we are working only with legitimate English words rather than arbitrary strings.\n",
    "\n",
    "This task combines principles from cryptography, bit level analysis, and dictionary-based verification, offering a hands-on exploration of how proof of work operates on a smaller and more interpretable scale."
   ]
  },
  {
   "cell_type": "markdown",
   "metadata": {},
   "source": [
    "### (Step 1) Load a List of English Words"
   ]
  },
  {
   "cell_type": "code",
   "execution_count": 58,
   "metadata": {},
   "outputs": [
    {
     "name": "stdout",
     "output_type": "stream",
     "text": [
      "Loaded 45402 words.\n",
      "Sample words: ['AARHUS', 'AARON', 'ABABA', 'ABACK', 'ABAFT', 'ABANDON', 'ABANDONED', 'ABANDONING', 'ABANDONMENT', 'ABANDONS']\n"
     ]
    }
   ],
   "source": [
    "#this is a fucction to load word.txt file\n",
    "def loadlistofwords(file_path):\n",
    "\n",
    "    with open(file_path, 'r') as f:\n",
    "        return [line.strip() for line in f.readlines() if line.strip()]\n",
    "    \n",
    "file_path = 'words.txt'\n",
    "#makes words the list of words\n",
    "words = loadlistofwords(file_path) \n",
    "\n",
    "#here we test and print words\n",
    "print(f\"Loaded {len(words)} words.\")\n",
    "print(\"Sample words:\", words[:10])"
   ]
  },
  {
   "cell_type": "markdown",
   "metadata": {},
   "source": [
    "### (Step 2) Compute SHA-256 Hash and Convert to Binary"
   ]
  },
  {
   "cell_type": "code",
   "execution_count": 59,
   "metadata": {},
   "outputs": [
    {
     "name": "stdout",
     "output_type": "stream",
     "text": [
      "SHA-256 binary of 'test' in binary:\n",
      "1001111110000110110100001000000110001000010011000111110101100101100110100010111111101010101000001100010101011010110100000001010110100011101111110100111100011011001010110000101110000010001011001101000101011101011011000001010110110000111100000000101000001000\n"
     ]
    }
   ],
   "source": [
    "def sha256binary(word):\n",
    "    #this encodes the word to bytes\n",
    "    hash_bytes = hashlib.sha256(word.encode()).digest()\n",
    "    #this byte to 8 bit binary conversion\n",
    "    return ''.join(f'{byte:08b}' for byte in hash_bytes)  \n",
    "\n",
    "#test the sha256binary function works\n",
    "testword = \"test\"\n",
    "testconvert = sha256binary(testword)\n",
    "print(f\"SHA-256 binary of '{testword}' in binary:\")\n",
    "print(testconvert)"
   ]
  },
  {
   "cell_type": "markdown",
   "metadata": {},
   "source": [
    "### (Step 3) Count Leading Zero Bits"
   ]
  },
  {
   "cell_type": "code",
   "execution_count": 60,
   "metadata": {},
   "outputs": [
    {
     "name": "stdout",
     "output_type": "stream",
     "text": [
      "Leading zero bits in SHA-256 binary of 'test': 0\n"
     ]
    },
    {
     "ename": "NameError",
     "evalue": "name 'sha256_to_binary' is not defined",
     "output_type": "error",
     "traceback": [
      "\u001b[0;31m---------------------------------------------------------------------------\u001b[0m",
      "\u001b[0;31mNameError\u001b[0m                                 Traceback (most recent call last)",
      "Cell \u001b[0;32mIn[60], line 14\u001b[0m\n\u001b[1;32m     11\u001b[0m test_leading_zeros \u001b[38;5;241m=\u001b[39m count_leading_zeros(testconvert)\n\u001b[1;32m     12\u001b[0m \u001b[38;5;28mprint\u001b[39m(\u001b[38;5;124mf\u001b[39m\u001b[38;5;124m\"\u001b[39m\u001b[38;5;124mLeading zero bits in SHA-256 binary of \u001b[39m\u001b[38;5;124m'\u001b[39m\u001b[38;5;132;01m{\u001b[39;00mtestword\u001b[38;5;132;01m}\u001b[39;00m\u001b[38;5;124m'\u001b[39m\u001b[38;5;124m: \u001b[39m\u001b[38;5;132;01m{\u001b[39;00mtest_leading_zeros\u001b[38;5;132;01m}\u001b[39;00m\u001b[38;5;124m\"\u001b[39m)\n\u001b[0;32m---> 14\u001b[0m zero_bits \u001b[38;5;241m=\u001b[39m count_leading_zeros(\u001b[43msha256_to_binary\u001b[49m(\u001b[38;5;124m\"\u001b[39m\u001b[38;5;124mhello\u001b[39m\u001b[38;5;124m\"\u001b[39m))\n\u001b[1;32m     15\u001b[0m \u001b[38;5;28mprint\u001b[39m(\u001b[38;5;124m\"\u001b[39m\u001b[38;5;124mLeading zero bits in SHA-256 binary of \u001b[39m\u001b[38;5;124m'\u001b[39m\u001b[38;5;124mhello\u001b[39m\u001b[38;5;124m'\u001b[39m\u001b[38;5;124m:\u001b[39m\u001b[38;5;124m\"\u001b[39m, zero_bits)\n",
      "\u001b[0;31mNameError\u001b[0m: name 'sha256_to_binary' is not defined"
     ]
    }
   ],
   "source": [
    "\n",
    "def count_leading_zeros(binary_str):\n",
    "    count = 0\n",
    "    for bit in binary_str:\n",
    "        if bit == '0':\n",
    "            count += 1\n",
    "        else:\n",
    "            break\n",
    "    return count\n",
    "\n",
    "# Test the function\n",
    "test_leading_zeros = count_leading_zeros(testconvert)\n",
    "print(f\"Leading zero bits in SHA-256 binary of '{testword}': {test_leading_zeros}\")\n",
    "\n",
    "zero_bits = count_leading_zeros(sha256_to_binary(\"hello\"))\n",
    "print(\"Leading zero bits in SHA-256 binary of 'hello':\", zero_bits)"
   ]
  },
  {
   "cell_type": "markdown",
   "metadata": {},
   "source": [
    "### (Step 3) Find the Words With the Most Leading Zeros"
   ]
  },
  {
   "cell_type": "code",
   "execution_count": null,
   "metadata": {},
   "outputs": [],
   "source": [
    "\n",
    "#function to find the words with the most leading zeros\n",
    "\n",
    "def find_words_with_most_leading_zeros(words):\n",
    "    #we set 0 as the initial max_zeros\n",
    "    max_zeros = 0\n",
    "    result_words = []\n",
    "\n",
    "    for word in words:\n",
    "        binary_hash = sha256binary(word)\n",
    "        leading_zeros = count_leading_zeros(binary_hash)\n",
    "\n",
    "        if leading_zeros > max_zeros:\n",
    "            max_zeros = leading_zeros\n",
    "            result_words = [word]\n",
    "        elif leading_zeros == max_zeros:\n",
    "            result_words.append(word)\n",
    "\n",
    "    return max_zeros, result_words\n",
    "\n",
    "\n",
    "#this find the words with the most leading zeros\n",
    "max_zeros, result_words = find_words_with_most_leading_zeros(words)\n",
    "\n",
    "#printing the results\n",
    "print(f\"Maximum leading zero bits: {max_zeros}\")\n",
    "print(\"Words with the most leading zero bits:\")\n",
    "print(result_words)"
   ]
  },
  {
   "cell_type": "markdown",
   "metadata": {},
   "source": [
    "# Conclusion\n",
    "In Task 6, we investigated the idea of proof of work by using it to illustrate how computational effort can be quantified using cryptographic hashing on English words. We found the words with the most leading zero bits in their hash digests by using the SHA-256 hash function. This task provided valuable insights into the following:\n",
    "\n",
    "1. ***Cryptographic Hashing:*** We utilised the SHA-256 algorithm to compute secure and unique hash values for each word, showcasing its importance in cryptographic systems.\n",
    "\n",
    "2. ***Binary Representation:*** By converting hash digests into binary format, we analysed the structure of hash outputs and counted leading zero bits, a key metric in proof-of-work systems.\n",
    "\n",
    "3. ***Efficiency and Validation:*** The process of iterating through a large word list and verifying results emphasised the computational effort required in proof of work, mirroring real-world applications like blockchain mining.\n",
    "\n",
    "This task bridged the gap between theoretical concepts and practical implementations by highlighting the simplified practical application of cryptographic principles. Additionally, it reaffirmed how crucial secure hashing and computational work are to maintaining data security and integrity."
   ]
  },
  {
   "cell_type": "markdown",
   "metadata": {},
   "source": [
    "---\n",
    "# Task 7: Turing Machines\n",
    "---"
   ]
  },
  {
   "cell_type": "markdown",
   "metadata": {},
   "source": [
    "### Introduction\n",
    "In task 8 we explore the concept of a ***Turing machine***, which is  a important model for computation introduced by Alan Turing. A Turing machine is an abstract machine that manipulates symbols on a tape according to a set of predefined rules. It operates using a tape, a tape head that reads and writes symbols, and a set of states that guide its behaviour.\n",
    "\n",
    "The objective in this task is to design a Turing machine that performs binary increment, meaning it adds 1 to a binary number written on the tape. The machine starts at the leftmost non-blank symbol and interprets the rightmost bit as the least significant. It simulates how actual binary addition with carry works:\n",
    "\n",
    "- If the rightmost bit is 0, it is changed to 1, and the machine halts.\n",
    "\n",
    "- If it is 1, it becomes 0, and the machine carries the 1 leftward.\n",
    "\n",
    "- This continues until a 0 is found (changed to 1) or the tape’s left end is reached, where it writes a new 1 to account for the final carry.\n",
    "\n",
    "The simulations helps us understand how simple rule based computation can be used to build logic that modern machines rely on, reinforcing the principle that complex tasks can be broken down into small, deterministic steps."
   ]
  },
  {
   "cell_type": "code",
   "execution_count": null,
   "metadata": {},
   "outputs": [
    {
     "name": "stdout",
     "output_type": "stream",
     "text": [
      "Input: 100111\n",
      "Output: 101000_\n"
     ]
    }
   ],
   "source": [
    "\n",
    "def turingmachine(tape):\n",
    "    #this converts the input string to a list of characters\n",
    "    tape = list(tape)\n",
    "    \n",
    "    #this adds a blank symbol to the end of the tape\n",
    "    head = 0\n",
    "    while head < len(tape) and tape[head] == '_': \n",
    "        head += 1\n",
    "    \n",
    "    #this adds a blank symbol to the end of the tape\n",
    "    if head >= len(tape): #this\n",
    "        return \"1\"\n",
    "    #this is inital state\n",
    "    state = \"q0\"  \n",
    "    \n",
    "    while state != \"q2\":\n",
    "        # Current symbol under the head\n",
    "        current_symbol = tape[head] if 0 <= head < len(tape) else '_'\n",
    "        \n",
    "        #this moves right to find the end\n",
    "        if state == \"q0\": \n",
    "            if current_symbol in (\"0\", \"1\"):\n",
    "                head += 1\n",
    "                #when we reach the end of the number\n",
    "            elif current_symbol == \"_\":  \n",
    "                head -= 1\n",
    "                state = \"q1\"\n",
    "        \n",
    "        #this proccesses the carry\n",
    "        elif state == \"q1\":  \n",
    "            if current_symbol == \"0\":\n",
    "                #if we find a 0, change it to 1 and halt\n",
    "                if 0 <= head < len(tape):\n",
    "                    tape[head] = \"1\"\n",
    "                    #this halts the machine\n",
    "                state = \"q2\"  \n",
    "            \n",
    "            elif current_symbol == \"1\":\n",
    "                #if we find a 1, change it to 0 and move left\n",
    "                if 0 <= head < len(tape):\n",
    "                    tape[head] = \"0\"\n",
    "                head -= 1\n",
    "            \n",
    "            elif current_symbol == \"_\":\n",
    "                #here we are at the leftmost blank\n",
    "                #if we are at the leftmost blank, we need to add a 1\n",
    "                if head < 0:\n",
    "                    #if we are at the leftmost blank, we need to add a 1\n",
    "                    tape.insert(0, \"1\")\n",
    "                    head = 0\n",
    "                else:\n",
    "                    tape[head] = \"1\"\n",
    "                    #this halts the machine\n",
    "                state = \"q2\"  \n",
    "    \n",
    "   \n",
    "    result = \"\".join(tape)\n",
    "    result = result.lstrip('_')\n",
    "    \n",
    "    return result\n",
    "\n",
    "#testing the Turing machine\n",
    "input_tape = \"100111_\"\n",
    "result = turingMachine(input_tape)\n",
    "print(f\"Input: {input_tape.rstrip('_')}\")\n",
    "print(f\"Output: {result}\")\n"
   ]
  },
  {
   "cell_type": "markdown",
   "metadata": {},
   "source": [
    "# Conclusion\n",
    "\n",
    "Task 7 looked at the idea of a Turing machine a basic model of computation first presented by Alan Turing. We showed how straight forward rule based logic might replicate difficult computational tasks by building a Turing machine capable of binary increment. The main lessons learnt from this task:\n",
    "\n",
    "\n",
    "\n",
    "\n",
    "1. ***Understanding Turing Machines:*** We learnt how a Turing machine operates using a tape, a tape head, and a set of states to manipulate symbols based on predefined rules.\n",
    "\n",
    "\n",
    "\n",
    "\n",
    "2. ***Binary Increment Logic:*** The machine successfully simulated binary addition with carry, showcasing how deterministic steps can handle arithmetic operations.\n",
    "\n",
    "\n",
    "\n",
    "\n",
    "3. ***Practical Insights:*** This task reinforced the principle that modern computation is built on simple, deterministic operations, which can be scaled to solve complex problems.\n",
    "\n",
    "\n",
    "\n",
    "\n",
    "Developing and testing the Turing machine helped us to better understand the fundamental ideas of computation and their applicability to contemporary computer science."
   ]
  },
  {
   "cell_type": "markdown",
   "metadata": {},
   "source": [
    "## Reference\n",
    "1. https://en.wikipedia.org/wiki/Turing_machine\n",
    "2. https://www.quora.com/Why-was-Alan-Turing-s-1912-1954-1936-paper-On-Computable-Numbers-effectively-founded-computer-science\n",
    "3. https://plato.stanford.edu/entries/turing-machine/\n"
   ]
  },
  {
   "cell_type": "markdown",
   "metadata": {},
   "source": []
  }
 ],
 "metadata": {
  "kernelspec": {
   "display_name": "Python 3",
   "language": "python",
   "name": "python3"
  },
  "language_info": {
   "codemirror_mode": {
    "name": "ipython",
    "version": 3
   },
   "file_extension": ".py",
   "mimetype": "text/x-python",
   "name": "python",
   "nbconvert_exporter": "python",
   "pygments_lexer": "ipython3",
   "version": "3.12.1"
  }
 },
 "nbformat": 4,
 "nbformat_minor": 2
}
