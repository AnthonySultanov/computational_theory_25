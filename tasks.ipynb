{
 "cells": [
  {
   "cell_type": "code",
   "execution_count": null,
   "metadata": {},
   "outputs": [],
   "source": [
    "import numpy as np  \n",
    "import matplotlib.pyplot as plt\n",
    "import os\n",
    "import math\n",
    "import hashlib"
   ]
  },
  {
   "cell_type": "markdown",
   "metadata": {},
   "source": [
    "---\n",
    "# Task1: Binary Representations\n",
    "---"
   ]
  },
  {
   "cell_type": "markdown",
   "metadata": {},
   "source": [
    "### Introduction\n",
    "In this task we investigate basic binary operations applied in low level programming and encryption.We then carry out four main tasks: rotl, rotr, ch, and maj. Many cryptographic algorithms, including SHA-256, are based on these operations, which are also indispensable for bit level binary data manipulation.\n"
   ]
  },
  {
   "cell_type": "markdown",
   "metadata": {},
   "source": [
    "## rotl(x, n = 1)"
   ]
  },
  {
   "cell_type": "code",
   "execution_count": null,
   "metadata": {},
   "outputs": [],
   "source": [
    "def rotl(x, n = 1):\n",
    "    \"\"\"Rotate a 32-bit unsigned integer left by n positions.\"\"\"\n",
    "    n = n % 32\n",
    "    return ((x << n) | (x >> (32 - n))) & 0xFFFFFFFF\n",
    "\n"
   ]
  },
  {
   "cell_type": "code",
   "execution_count": null,
   "metadata": {},
   "outputs": [],
   "source": [
    "def test_rotl():\n",
    "    #test cases for rotl\n",
    "\n",
    "    #test case 1 rotate left by 4 positions\n",
    "    print(\"Test 1: Rotating 0x12345678 left by 4 positions\")\n",
    "    result = rotl(0x12345678, 4)\n",
    "    expected = 0x23456781\n",
    "    print(f\"Expected: {hex(expected)}\")\n",
    "    print(f\"Got:      {hex(result)}\")\n",
    "    print(f\"Result:     {result == expected}\\n\")\n",
    "\n",
    "    #test case 2 rotate left by 1 positions\n",
    "    print(\"Test 2: Rotating 0x80000000 left by 1 position\")\n",
    "    result = rotl(0x80000000, 1)\n",
    "    expected = 0x00000001\n",
    "    print(f\"Expected: {hex(expected)}\")\n",
    "    print(f\"Got:      {hex(result)}\")\n",
    "    print(f\"Result:     {result == expected}\\n\")\n",
    "\n",
    "    #test case 3 rotate left by 0 positions\n",
    "    print(\"Test 3: Rotating 0xFFFFFFFF left by 0 positions\")\n",
    "    result = rotl(0xFFFFFFFF, 0)\n",
    "    expected = 0xFFFFFFFF\n",
    "    print(f\"Expected: {hex(expected)}\")\n",
    "    print(f\"Got:      {hex(result)}\")\n",
    "    print(f\"Result:     {result == expected}\\n\")\n",
    "\n",
    "\n",
    "#run the test cases\n",
    "test_rotl()"
   ]
  },
  {
   "cell_type": "markdown",
   "metadata": {},
   "source": [
    "## rotr(x, n = 1)"
   ]
  },
  {
   "cell_type": "code",
   "execution_count": null,
   "metadata": {},
   "outputs": [],
   "source": [
    "def rotr(x, n = 1):\n",
    "    \"\"\"Rotate a 32-bit unsigned integer right by n positions. \"\"\"\n",
    "    n = n % 32\n",
    "    return ((x >> n) | (x << (32 - n))) & 0xFFFFFFFF\n",
    "\n"
   ]
  },
  {
   "cell_type": "code",
   "execution_count": null,
   "metadata": {},
   "outputs": [],
   "source": [
    "def test_rotr():\n",
    "    #test cases for rotr\n",
    "\n",
    "    #test case 1 rotate right by 4 positions\n",
    "    print(\"Test 1: Rotating 0x12345678 right by 4 positions\")\n",
    "    result = rotr(0x12345678, 4)\n",
    "    expected = 0x81234567\n",
    "    print(f\"Expected: {hex(expected)}\")\n",
    "    print(f\"Got:      {hex(result)}\")\n",
    "    print(f\"Result:     {result == expected}\\n\")\n",
    "\n",
    "    #test case 2 rotate right by 1 positions\n",
    "    print(\"Test 2: Rotating 0x80000000 right by 1 position\")\n",
    "    result = rotr(0x00000001, 1)\n",
    "    expected = 0x80000000\n",
    "    print(f\"Expected: {hex(expected)}\")\n",
    "    print(f\"Got:      {hex(result)}\")\n",
    "    print(f\"Result:     {result == expected}\\n\")\n",
    "\n",
    "    #test case 3 rotate right by 0 positions\n",
    "    print(\"Test 3: Rotating 0xFFFFFFFF right by 0 positions\")\n",
    "    result = rotr(0xFFFFFFFF, 0)\n",
    "    expected = 0xFFFFFFFF\n",
    "    print(f\"Expected: {hex(expected)}\")\n",
    "    print(f\"Got:      {hex(result)}\")\n",
    "    print(f\"Result:     {result == expected}\\n\")\n",
    "\n",
    "\n",
    "#run the test cases\n",
    "test_rotr()"
   ]
  },
  {
   "cell_type": "markdown",
   "metadata": {},
   "source": [
    "## ch(x, y, z)"
   ]
  },
  {
   "cell_type": "code",
   "execution_count": null,
   "metadata": {},
   "outputs": [],
   "source": [
    "def ch(x, y, z):\n",
    "    \"\"\"Choose bits from y where x has 1s and from z where x has 0s.\"\"\"\n",
    "    return (x & y) ^ (~x & z)\n",
    "\n"
   ]
  },
  {
   "cell_type": "code",
   "execution_count": null,
   "metadata": {},
   "outputs": [],
   "source": [
    "def test_ch():\n",
    "    \"\"\"Test cases for ch (choose) function\"\"\"\n",
    "    \n",
    "    # Test case 1: When x is all 1s, should select all bits from y\n",
    "    print(\"Test 1: x is all 1s (should select from y)\")\n",
    "    x, y, z = 0xFFFFFFFF, 0xAAAAAAAA, 0x55555555\n",
    "    result = ch(x, y, z)\n",
    "    expected = 0xAAAAAAAA\n",
    "    print(f\"x:        {hex(x)}\")\n",
    "    print(f\"y:        {hex(y)}\")\n",
    "    print(f\"z:        {hex(z)}\")\n",
    "    print(f\"Expected: {hex(expected)}\")\n",
    "    print(f\"Got:      {hex(result)}\")\n",
    "    print(f\"Result:   {result == expected}\\n\")\n",
    "\n",
    "    # Test case 2: When x is all 0s, should select all bits from z\n",
    "    print(\"Test 2: x is all 0s (should select from z)\")\n",
    "    x, y, z = 0x00000000, 0xAAAAAAAA, 0x55555555\n",
    "    result = ch(x, y, z)\n",
    "    expected = 0x55555555\n",
    "    print(f\"x:        {hex(x)}\")\n",
    "    print(f\"y:        {hex(y)}\")\n",
    "    print(f\"z:        {hex(z)}\")\n",
    "    print(f\"Expected: {hex(expected)}\")\n",
    "    print(f\"Got:      {hex(result)}\")\n",
    "    print(f\"Result:   {result == expected}\\n\")\n",
    "\n",
    "    # Test case 3: When x is alternating 1s and 0s\n",
    "    print(\"Test 3: x is alternating 1s and 0s\")\n",
    "    x, y, z = 0xF0F0F0F0, 0xAAAAAAAA, 0x55555555\n",
    "    result = ch(x, y, z)\n",
    "    expected = 0xAA555555\n",
    "    print(f\"x:        {hex(x)}\")\n",
    "    print(f\"y:        {hex(y)}\")\n",
    "    print(f\"z:        {hex(z)}\")\n",
    "    print(f\"Expected: {hex(expected)}\")\n",
    "    print(f\"Got:      {hex(result)}\")\n",
    "    print(f\"Result:   {result == expected}\\n\")\n",
    "\n",
    "# Run the tests\n",
    "test_ch()"
   ]
  },
  {
   "cell_type": "markdown",
   "metadata": {},
   "source": [
    "## maj(x, y, z)"
   ]
  },
  {
   "cell_type": "code",
   "execution_count": null,
   "metadata": {},
   "outputs": [],
   "source": [
    "def maj(x, y, z):\n",
    "    \"\"\"Take majority vote of bits in x, y, and z. \"\"\"\n",
    "    return (x & y) ^ (x & z) ^ (y & z)"
   ]
  },
  {
   "cell_type": "code",
   "execution_count": null,
   "metadata": {},
   "outputs": [],
   "source": [
    "def test_maj():\n",
    "    #test cases for maj\n",
    "\n",
    "    #test case 1 when two inputs are all 1s\n",
    "    print(\"Test 1: Two inputs are all 1s\")\n",
    "    result = maj(0xFFFFFFFF, 0xFFFFFFFF, 0x00000000)\n",
    "    expected = 0xFFFFFFFF\n",
    "    print(f\"Expected: {hex(expected)}\")\n",
    "    print(f\"Got:      {hex(result)}\")\n",
    "    print(f\"Result:     {result == expected}\\n\")\n",
    "\n",
    "    #test case 2 when two inputs are all 0s\n",
    "    print(\"Test 2: Two inputs are all 0s\")\n",
    "    result = maj(0x00000000, 0x00000000, 0xFFFFFFFF)\n",
    "    expected = 0x00000000\n",
    "    print(f\"Expected: {hex(expected)}\")\n",
    "    print(f\"Got:      {hex(result)}\")\n",
    "    print(f\"Result:     {result == expected}\\n\")\n",
    "\n",
    "    #test case 3 with alternating patterns\n",
    "    print(\"Test 3: Alternating patterns\")\n",
    "    result = maj(0xF0F0F0F0, 0xAAAAAAAA, 0x55555555)\n",
    "    expected = 0x50505050\n",
    "    print(f\"Expected: {hex(expected)}\")\n",
    "    print(f\"Got:      {hex(result)}\")\n",
    "    print(f\"Result:     {result == expected}\\n\")\n",
    "\n",
    "\n",
    "#run the test cases\n",
    "test_maj()"
   ]
  },
  {
   "cell_type": "markdown",
   "metadata": {},
   "source": [
    "# Conclusion\n",
    "Task 1 shows the significance of low level bitwise operations in system level programming and cryptographic algorithms. Many difficult processes in cryptographic hash functions like SHA-256 are built on functions like rotl, rotr, ch, and maj. Gaining knowledge about how these operations change individual bits provides important insight into the safe and effective processing of data. In addition to reproducing behavior found in lower level languages like C, by putting these primitives into practice and testing them in Python, we also create a strong foundation for investigating and utilizing cryptographic algorithms and digital security measures in contemporary applications."
   ]
  },
  {
   "cell_type": "markdown",
   "metadata": {},
   "source": [
    "---\n",
    "# Task 2: Hash Functions\n",
    "---"
   ]
  },
  {
   "cell_type": "markdown",
   "metadata": {},
   "source": [
    "## Introduction\n",
    "In this task we investigate and convert a C classic hash function, first presented in The C Programming Language by Brian Kernighan and Dennis Ritchie into Python. A fundamental idea in computer science, hash functions are widely used in data structures including hash tables to effectively store and access data.\n",
    "\n",
    "This work calls for me to translate a rudimentary C-style hash function into Python. It generates a running hash value by iteratively over every character in a string. ord(char) assigns each character's Unicode value. The outcome is limited to a set range by being taken modulo 101.\n",
    "\n",
    "original hash function:\n",
    "```c\n",
    "unsigned hash(char *s) {\n",
    "    unsigned hashval;\n",
    "    for (hashval = 0; *s != '\\0'; s++)\n",
    "        hashval = *s + 31 * hashval;\n",
    "    return hashval % 101;\n",
    "}\n",
    "```\n"
   ]
  },
  {
   "cell_type": "markdown",
   "metadata": {},
   "source": [
    "Since 31 is a prime number, it has excellent distribution properties for strings and can be optimised by most compilers using (n << 5) - n. For this reason, it is frequently used in hash functions. Subsequently, 101 is employed since it is a prime number as well as sufficiently large to offer respectable distribution while remaining compact. A more even distribution of hash values can be achieved by taking a module by a prime number."
   ]
  },
  {
   "cell_type": "markdown",
   "metadata": {},
   "source": [
    "### Task2 Code"
   ]
  },
  {
   "cell_type": "code",
   "execution_count": null,
   "metadata": {},
   "outputs": [],
   "source": [
    "#hash function\n",
    "def hash_func(s):\n",
    "\n",
    "    hashval = 0\n",
    "    for char in s:\n",
    "        hashval = ord(char) + 31 * hashval\n",
    "    return hashval % 101"
   ]
  },
  {
   "cell_type": "code",
   "execution_count": null,
   "metadata": {},
   "outputs": [],
   "source": [
    "#testing hash function\n",
    "#test 1: Simple word\n",
    "result1 = hash_func(\"hello\")\n",
    "print(\"Hash for 'hello':\", result1)\n",
    "\n",
    "#test 2: Empty string\n",
    "result2 = hash_func(\"\")\n",
    "print(\"Hash for empty string:\", result2)\n",
    "\n",
    "#test 3: Case sensitivity\n",
    "result3 = hash_func(\"Hello\")  # Capital 'H'\n",
    "print(\"Hash for 'Hello':\", result3)\n"
   ]
  },
  {
   "cell_type": "markdown",
   "metadata": {},
   "source": [
    "# Conclusion\n",
    "In task 2 we demonstrate how to efficiently use and translate the traditional C style hash functions  into Python while maintaining their efficiency and simplicity. first presented in The C Programming Language by Brian Kernighan and Dennis Ritchie into Python. A balanced distribution of hash values is provided by the hash function, which combines character encoding and a prime multiplier (31) to minimize collisions in data structures such as hash tables. This distribution is further improved by the final modulo operation with another prime number (101). Through this task, we learn about the fundamental design principles of hashing and how mathematical decisions, such as prime numbers, contribute to the creation of efficient and successful hash functions. When adapting low level algorithms to high level languages, it also highlights how crucial it is to comprehend how they function."
   ]
  },
  {
   "cell_type": "markdown",
   "metadata": {},
   "source": [
    "## Ref\n",
    "- https://medium.com/codefile/the-c-programming-language-by-kernighan-and-ritchie-6bbcbd923f1f\n",
    "- https://en.wikipedia.org/wiki/Hash_function"
   ]
  },
  {
   "cell_type": "markdown",
   "metadata": {},
   "source": [
    "---\n",
    "# Task 3: SHA256\n",
    "---"
   ]
  },
  {
   "cell_type": "markdown",
   "metadata": {},
   "source": [
    "## Introduction\n",
    "In this task, we go through the concept of message padding implemented in the SHA-256 cryptographic hash algorithm. Padding is a very important preprocessing step in SHA-256 that ensures the message length meets specific structural requirements. Before hashing, messages must be padded so their length in bits is congruent to 448 modulo 512, allowing room for a final 64 bit length encoding. This task we go through on how to create a Python function that implements SHA 256 style padding for any given input file.  The appropriate padding is then added using bitwise logic and byte manipulation techniques. This includes a sequence of zero bits, a single 1-bit represented as 0x80, and the original message length encoded as a 64-bit big-endian integer. Gaining knowledge of this procedure helps one to understand how hash algorithms such as SHA-256 preserve security and structural integrity while transforming data.\n"
   ]
  },
  {
   "cell_type": "markdown",
   "metadata": {},
   "source": [
    "## Code"
   ]
  },
  {
   "cell_type": "code",
   "execution_count": null,
   "metadata": {},
   "outputs": [],
   "source": [
    "\n",
    "\n",
    "#Task3 here we define function \n",
    "def padding_sha256(file_path):\n",
    "    \n",
    "\n",
    "    #this reads the file as bytes\n",
    "    with open(file_path, 'rb') as f:\n",
    "        message  = f.read()\n",
    "\n",
    "    #this calculates the original length of the message in bits\n",
    "    first_bit_lenght = len(message ) * 8\n",
    "\n",
    "    #this initilizes padding with 1 bit in hex\n",
    "    padding = bytearray([0x80])\n",
    "\n",
    "    #here we calculate the number of 0x00 bytes needed\n",
    "    # add 1 for the 0x80 byte\n",
    "    total_len = len(message) + 1\n",
    "    pad_len = (56 - total_len % 64) % 64  \n",
    "\n",
    "    #add the 0x00 bytes for padding\n",
    "    padding.extend([0x00] * pad_len)\n",
    "\n",
    "    #this adds the length of the original message as a 64 bit integer\n",
    "    padding.extend(first_bit_lenght.to_bytes(8, byteorder='big'))\n",
    "\n",
    "    #this prints the padded message in 16 byte chunks\n",
    "    print('SHA-256 Padding:')\n",
    "    for i in range(0, len(padding), 16):\n",
    "        print(' '.join(f'{byte:02x}' for byte in padding[i:i+16]))\n",
    "\n",
    "\n",
    "\n",
    "#test\n",
    "padding_sha256('test_sha256.txt')\n"
   ]
  },
  {
   "cell_type": "markdown",
   "metadata": {},
   "source": [
    "# Conclusion\n",
    "Understanding and implementing the SHA-256 padding process offers a deeper appreciation of how cryptographic hash functions maintain structural requirements and data integrity.Padding ensures that the input message fits the fixed size block structure required by the algorithm while securely appending the original message length. This function is used as a important step in comprehending and potentially implementing hashing algorithms from scratch, highlighting the importance of precision in cryptographic systems."
   ]
  },
  {
   "cell_type": "markdown",
   "metadata": {},
   "source": [
    "## Ref\n",
    "- https://en.wikipedia.org/wiki/SHA-2"
   ]
  },
  {
   "cell_type": "markdown",
   "metadata": {},
   "source": [
    "---\n",
    "# Task 4: Prime Numbers\n",
    "---"
   ]
  },
  {
   "cell_type": "markdown",
   "metadata": {},
   "source": [
    "## Introduction\n",
    "Prime numbers are important to number theory and play a crucial role in various fields including cryptography, computer science, and mathematics. Any natural number larger than one that has no divisors besides one and itself is called a prime number. Our goal in this task is to use two proven algorithms to calculate the first 100 prime numbers:\n",
    "\n",
    "**1. Iterative Prime Checking:**  This technique determines whether a given number is divisible by any previously discovered prime by checking each one individually. It is added to the list of primes if it isn't. Although it is simple, it is not the most effective method for big datasets.\n",
    "\n",
    "**2. Sieve of Eratosthenes:**  This classic algorithm efficiently finds all primes up to a specified limit by systematically eliminating the multiples of each prime starting from 2 When producing a large number of primes, it is noticeably faster.\n",
    "\n",
    "We will implement both strategies into practice in Python, evaluate their results, and confirm that they're accurate."
   ]
  },
  {
   "cell_type": "markdown",
   "metadata": {},
   "source": [
    "## Iterative Prime Checking Method"
   ]
  },
  {
   "cell_type": "code",
   "execution_count": null,
   "metadata": {},
   "outputs": [],
   "source": [
    "#here we define a function to generate the first n primes\n",
    "def primenum(n, primes):\n",
    "    for p in primes:\n",
    "        if p * p > n:\n",
    "            break\n",
    "        if n % p == 0:\n",
    "            return False\n",
    "    return True\n",
    "\n",
    "#test\n",
    "\n",
    "#known prime list to test against\n",
    "known_primes = [2, 3, 5]\n",
    "print(\"Is 2 prime:\", primenum(2, []))\n",
    "print(\"Is 3 prime:\", primenum(3, [2])) \n",
    "print(\"Is 4 prime:\", primenum(4, [2]))\n",
    "print(\"Is 5 prime:\", primenum(5, [2, 3]))\n",
    "print(\"Is 6 prime:\", primenum(6, [2, 3, 5]))             \n",
    "print(\"Is 7 prime:\", primenum(7, [2, 3, 5]))"
   ]
  },
  {
   "cell_type": "code",
   "execution_count": null,
   "metadata": {},
   "outputs": [],
   "source": [
    "def prime_iterative(limit):\n",
    "    #here prims is empty list and candidate is 2 because 2 is the first prime\n",
    "    primes = []\n",
    "    candidate = 2\n",
    "    #this loop continues until we have the desired number of primes\n",
    "    while len(primes) < limit:\n",
    "        if primenum(candidate, primes):\n",
    "            primes.append(candidate)\n",
    "        candidate += 1\n",
    "    return primes\n",
    "#this runs the function to generate the first 50 primes\n",
    "iterative_primes = prime_iterative(50)\n",
    "print(\"First 50 primes (Iterative):\")\n",
    "print(iterative_primes)\n"
   ]
  },
  {
   "cell_type": "markdown",
   "metadata": {},
   "source": [
    "## Sieve of Eratosthenes Method"
   ]
  },
  {
   "cell_type": "code",
   "execution_count": null,
   "metadata": {},
   "outputs": [],
   "source": [
    "\n",
    "\n",
    "def prime_sieve_create(max):\n",
    "    #here we choose a max that should guarantees at least 100 primes\n",
    "    upper_bound = 400 \n",
    "    #here we create a list of boolean values to mark primes\n",
    "    is_prime = [True] * (upper_bound + 1) \n",
    "    #here we set 1 and 0 to not be prime\n",
    "    is_prime[0] = is_prime[1] = False \n",
    "\n",
    "    for p in range(2, int(upper_bound ** 0.5) + 1):\n",
    "        if is_prime[p]:\n",
    "            for i in range(p * p, upper_bound + 1, p):\n",
    "                is_prime[i] = False\n",
    "\n",
    "    primes = [i for i, flag in enumerate(is_prime) if flag]\n",
    "    return primes[:max]\n",
    "\n"
   ]
  },
  {
   "cell_type": "code",
   "execution_count": null,
   "metadata": {},
   "outputs": [],
   "source": [
    "\n",
    "sieve_primes = prime_sieve_create(50)\n",
    "print(\"First 50 primes (Sieve of Eratosthenes):\")\n",
    "print(sieve_primes)\n",
    "\n"
   ]
  },
  {
   "cell_type": "markdown",
   "metadata": {},
   "source": [
    "# Conclusion\n",
    "In this task, we successfully used two different ways to generating prime numbers: the **Iterative Prime Checking** method and the **Sieve of Eratosthenes**.\n",
    "\n",
    "- The **Iterative method** showed us to be much more simple and intuitive, checking each number against previously found primes. While it works well for generating a small number of primes, it becomes slower as the target number of primes increases due to repeated checks.\n",
    "  \n",
    "- The **Sieve of Eratosthenes**, on the other hand, was much faster and more efficient for generating a large list of primes. By marking multiples of known primes in a boolean list, it avoided redundant calculations and scaled much better with higher limits.\n",
    "\n",
    "Both methods produced accurate results and helped reinforce key concepts in prime number generation. For most practical and large-scale applications, the Sieve is the preferred method due to its superior performance and lower computational complexity."
   ]
  },
  {
   "cell_type": "markdown",
   "metadata": {},
   "source": [
    "## Reference\n",
    "- https://en.wikipedia.org/wiki/Sieve_of_Eratosthenes\n",
    "- https://www.geeksforgeeks.org/sieve-of-eratosthenes/\n",
    "- Lab Materials"
   ]
  },
  {
   "cell_type": "markdown",
   "metadata": {},
   "source": [
    "---\n",
    "# Task 5: Roots\n",
    "---"
   ]
  },
  {
   "cell_type": "markdown",
   "metadata": {},
   "source": [
    "## Introduction\n",
    "This task we will investigate the process of extracting the fractional part of a square root in a 32 bit binary representation. This method is applied to hash functions such as those in SHA algorithms and cryptographic applications. The first 100 prime numbers will be created, their square roots will be calculated, and the 32-bit fractional binary value will be extracted."
   ]
  },
  {
   "cell_type": "markdown",
   "metadata": {},
   "source": [
    "### (Step1) First we generate 100 primes using above functions"
   ]
  },
  {
   "cell_type": "code",
   "execution_count": null,
   "metadata": {},
   "outputs": [],
   "source": [
    "primes100 = prime_iterative(100)\n",
    "print(primes100)"
   ]
  },
  {
   "cell_type": "markdown",
   "metadata": {},
   "source": [
    "### (Step 2) Then we are going to extract the 32-bit Binary Fractional Part of the Square Root"
   ]
  },
  {
   "cell_type": "code",
   "execution_count": null,
   "metadata": {},
   "outputs": [],
   "source": [
    "\n",
    "\n",
    "def fractional_32bit(num):\n",
    "    root = math.sqrt(num)\n",
    "    frac_part = root - math.floor(root)\n",
    "    #this converts the fractional part to a 32 bit integer\n",
    "    #this multiplying it by 2^32\n",
    "    frac_32bit = int(frac_part * (2 ** 32))\n",
    "    return frac_32bit\n",
    "\n"
   ]
  },
  {
   "cell_type": "markdown",
   "metadata": {},
   "source": [
    "### (Step 3) Running the Task to Display Prime Numbers, Square Roots, and Their 32-bit Fractional Parts"
   ]
  },
  {
   "cell_type": "code",
   "execution_count": null,
   "metadata": {},
   "outputs": [],
   "source": [
    "\n",
    "\n",
    "def task5_roots():\n",
    "    print(\"Prime\\tSqrt\\t\\tFractional Part\\t\\tFirst 32 Bits (hex)\")\n",
    "    for prime in primes100:\n",
    "        #this calculates the square root of the prime\n",
    "        root = math.sqrt(prime)\n",
    "        #this calculates the fractional part of the square root\n",
    "        frac_part = root - math.floor(root)\n",
    "        #this converts the fractional part to a 32 bit integer\n",
    "        frac_32bit = fractional_32bit(prime)\n",
    "        print(f\"{prime}\\t{root:.10f}\\t{frac_part:.10f}\\t0x{frac_32bit:08x}\")\n",
    "\n",
    "#run the task 5 function\n",
    "task5_roots()\n"
   ]
  },
  {
   "cell_type": "markdown",
   "metadata": {},
   "source": [
    "\n",
    "# Conclusion\n",
    "\n",
    "In task 5, we went through the process of extracting the fractional part of the square root of prime numbers and representing that fraction in a 32 bit binary format. This technique is particularly useful in cryptography and hash functions, such as those used in SHA algorithms, where precise numerical representations of fractional parts are needed.\n",
    "\n",
    "Steps we went through\n",
    "\n",
    "1. ***Prime Number Generation:*** We used an iterative function to generate the first 100 prime numbers.\n",
    "\n",
    "2. ***Fractional Part Extraction:*** For each prime, we calculated the square root and isolated its fractional part. This fractional part was then converted into a 32 bit unsigned integer by multiplying it. \n",
    "\n",
    "3. ***Results Display:*** The results were printed in a table format showing each prime number, its square root, its fractional part, and the corresponding 32 bit hexadecimal representation of that fractional part.\n",
    "\n",
    "In summary, this task successfully demonstrated the application of fractional square roots and their 32 bit binary representations, forming a foundational understanding for further cryptographic exploration.\n"
   ]
  },
  {
   "cell_type": "markdown",
   "metadata": {},
   "source": [
    "---\n",
    "# Task 6: Proof of Work\n",
    "---"
   ]
  },
  {
   "cell_type": "markdown",
   "metadata": {},
   "source": [
    "### Introduction\n",
    "In task 6 we explore a cryptographic concept known as proof of work by applying it to English words. We adapt this idea to the domain of language, inspired by systems like Bitcoin, where computational effort is demonstrated by finding a value whose hash begins with a number of zero bits. Our objective is to identify words from the English language whose SHA-256 hash digests start with the highest number of leading zero bits.\n",
    "\n",
    "- To accomplish this, we load a comprehensive English word list and compute the SHA-256 hash for each word. Each digest is then converted into its binary representation, allowing us to count how many consecutive 0 bits appear at the beginning. The word(s) with the most leading zero bits are identified as the \"winners\" of this proof of work search.\n",
    "\n",
    "- To ensure validity, every candidate word is verified to appear in at least one reputable English dictionary. This procedure guarantees that we are working only with legitimate English words rather than arbitrary strings.\n",
    "\n",
    "This task combines principles from cryptography, bit level analysis, and dictionary-based verification, offering a hands-on exploration of how proof of work operates on a smaller and more interpretable scale."
   ]
  },
  {
   "cell_type": "markdown",
   "metadata": {},
   "source": [
    "### (Step 1) Load a List of English Words"
   ]
  },
  {
   "cell_type": "code",
   "execution_count": null,
   "metadata": {},
   "outputs": [],
   "source": [
    "#this is a fucction to load word.txt file\n",
    "def loadlistofwords(file_path):\n",
    "\n",
    "    with open(file_path, 'r') as f:\n",
    "        return [line.strip() for line in f.readlines() if line.strip()]\n",
    "    \n",
    "file_path = 'words.txt'\n",
    "#makes words the list of words\n",
    "words = loadlistofwords(file_path) \n",
    "\n",
    "#here we test and print words\n",
    "print(f\"Loaded {len(words)} words.\")\n",
    "print(\"Sample words:\", words[:10])"
   ]
  },
  {
   "cell_type": "markdown",
   "metadata": {},
   "source": [
    "### (Step 2) Compute SHA-256 Hash and Convert to Binary"
   ]
  },
  {
   "cell_type": "code",
   "execution_count": null,
   "metadata": {},
   "outputs": [],
   "source": [
    "def sha256binary(word):\n",
    "    #this encodes the word to bytes\n",
    "    hash_bytes = hashlib.sha256(word.encode()).digest()\n",
    "    #this byte to 8 bit binary conversion\n",
    "    return ''.join(f'{byte:08b}' for byte in hash_bytes)  \n",
    "\n",
    "#test the sha256binary function works\n",
    "testword = \"test\"\n",
    "testconvert = sha256binary(testword)\n",
    "print(f\"SHA-256 binary of '{testword}' in binary:\")\n",
    "print(testconvert)"
   ]
  },
  {
   "cell_type": "markdown",
   "metadata": {},
   "source": [
    "### (Step 3) Count Leading Zero Bits"
   ]
  },
  {
   "cell_type": "code",
   "execution_count": null,
   "metadata": {},
   "outputs": [],
   "source": [
    "\n",
    "def count_leading_zeros(binary_str):\n",
    "    count = 0\n",
    "    for bit in binary_str:\n",
    "        if bit == '0':\n",
    "            count += 1\n",
    "        else:\n",
    "            break\n",
    "    return count\n",
    "\n",
    "# Test the function\n",
    "test_leading_zeros = count_leading_zeros(testconvert)\n",
    "print(f\"Leading zero bits in SHA-256 binary of '{testword}': {test_leading_zeros}\")\n",
    "\n",
    "zero_bits = count_leading_zeros(sha256_to_binary(\"hello\"))\n",
    "print(\"Leading zero bits in SHA-256 binary of 'hello':\", zero_bits)"
   ]
  },
  {
   "cell_type": "markdown",
   "metadata": {},
   "source": [
    "### (Step 3) Find the Words With the Most Leading Zeros"
   ]
  },
  {
   "cell_type": "code",
   "execution_count": null,
   "metadata": {},
   "outputs": [],
   "source": [
    "\n",
    "#function to find the words with the most leading zeros\n",
    "\n",
    "def find_words_with_most_leading_zeros(words):\n",
    "    #we set 0 as the initial max_zeros\n",
    "    max_zeros = 0\n",
    "    result_words = []\n",
    "\n",
    "    for word in words:\n",
    "        binary_hash = sha256binary(word)\n",
    "        leading_zeros = count_leading_zeros(binary_hash)\n",
    "\n",
    "        if leading_zeros > max_zeros:\n",
    "            max_zeros = leading_zeros\n",
    "            result_words = [word]\n",
    "        elif leading_zeros == max_zeros:\n",
    "            result_words.append(word)\n",
    "\n",
    "    return max_zeros, result_words\n",
    "\n",
    "\n",
    "#this find the words with the most leading zeros\n",
    "max_zeros, result_words = find_words_with_most_leading_zeros(words)\n",
    "\n",
    "#printing the results\n",
    "print(f\"Maximum leading zero bits: {max_zeros}\")\n",
    "print(\"Words with the most leading zero bits:\")\n",
    "print(result_words)"
   ]
  },
  {
   "cell_type": "markdown",
   "metadata": {},
   "source": [
    "# Conclusion\n",
    "In Task 6, we investigated the idea of proof of work by using it to illustrate how computational effort can be quantified using cryptographic hashing on English words. We found the words with the most leading zero bits in their hash digests by using the SHA-256 hash function. This task provided valuable insights into the following:\n",
    "\n",
    "1. ***Cryptographic Hashing:*** We utilised the SHA-256 algorithm to compute secure and unique hash values for each word, showcasing its importance in cryptographic systems.\n",
    "\n",
    "2. ***Binary Representation:*** By converting hash digests into binary format, we analysed the structure of hash outputs and counted leading zero bits, a key metric in proof-of-work systems.\n",
    "\n",
    "3. ***Efficiency and Validation:*** The process of iterating through a large word list and verifying results emphasised the computational effort required in proof of work, mirroring real-world applications like blockchain mining.\n",
    "\n",
    "This task bridged the gap between theoretical concepts and practical implementations by highlighting the simplified practical application of cryptographic principles. Additionally, it reaffirmed how crucial secure hashing and computational work are to maintaining data security and integrity."
   ]
  },
  {
   "cell_type": "markdown",
   "metadata": {},
   "source": [
    "---\n",
    "# Task 7: Turing Machines\n",
    "---"
   ]
  },
  {
   "cell_type": "markdown",
   "metadata": {},
   "source": [
    "### Introduction\n",
    "In task 8 we explore the concept of a ***Turing machine***, which is  a important model for computation introduced by Alan Turing. A Turing machine is an abstract machine that manipulates symbols on a tape according to a set of predefined rules. It operates using a tape, a tape head that reads and writes symbols, and a set of states that guide its behaviour.\n",
    "\n",
    "The objective in this task is to design a Turing machine that performs binary increment, meaning it adds 1 to a binary number written on the tape. The machine starts at the leftmost non-blank symbol and interprets the rightmost bit as the least significant. It simulates how actual binary addition with carry works:\n",
    "\n",
    "- If the rightmost bit is 0, it is changed to 1, and the machine halts.\n",
    "\n",
    "- If it is 1, it becomes 0, and the machine carries the 1 leftward.\n",
    "\n",
    "- This continues until a 0 is found (changed to 1) or the tape’s left end is reached, where it writes a new 1 to account for the final carry.\n",
    "\n",
    "The simulations helps us understand how simple rule based computation can be used to build logic that modern machines rely on, reinforcing the principle that complex tasks can be broken down into small, deterministic steps."
   ]
  },
  {
   "cell_type": "markdown",
   "metadata": {},
   "source": [
    "## Reference\n",
    "1. https://en.wikipedia.org/wiki/Turing_machine\n",
    "2. https://www.quora.com/Why-was-Alan-Turing-s-1912-1954-1936-paper-On-Computable-Numbers-effectively-founded-computer-science\n",
    "3. https://plato.stanford.edu/entries/turing-machine/\n"
   ]
  }
 ],
 "metadata": {
  "kernelspec": {
   "display_name": "Python 3",
   "language": "python",
   "name": "python3"
  },
  "language_info": {
   "codemirror_mode": {
    "name": "ipython",
    "version": 3
   },
   "file_extension": ".py",
   "mimetype": "text/x-python",
   "name": "python",
   "nbconvert_exporter": "python",
   "pygments_lexer": "ipython3",
   "version": "3.12.1"
  }
 },
 "nbformat": 4,
 "nbformat_minor": 2
}
